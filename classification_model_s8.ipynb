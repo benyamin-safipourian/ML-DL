{
  "cells": [
    {
      "cell_type": "code",
      "execution_count": null,
      "metadata": {
        "id": "b8cchIuwe5eU"
      },
      "outputs": [],
      "source": [
        "import torch\n",
        "#from torchviz import make_dot\n",
        "from torchvision import datasets\n",
        "from torch import optim\n",
        "import matplotlib.pyplot as plt\n",
        "import torch.nn as nn\n",
        "import numpy as np\n",
        "import pandas as pd\n",
        "from torch.utils.data import Dataset,DataLoader, TensorDataset\n",
        "from sklearn.datasets import make_moons\n",
        "from sklearn.preprocessing import StandardScaler\n",
        "from sklearn.model_selection import train_test_split\n",
        "from sklearn.metrics import confusion_matrix, roc_curve, precision_recall_curve, auc\n",
        "import requests\n",
        "\n",
        "\n",
        "#import cv2\n",
        "\n",
        "\n",
        "device = 'cuda' if torch.cuda.is_available() else 'cpu'"
      ]
    },
    {
      "cell_type": "code",
      "execution_count": null,
      "metadata": {
        "id": "Hi3bQxXDfG5W"
      },
      "outputs": [],
      "source": [
        "# data proccesing\n",
        "dff = pd.read_csv(\"/content/train.csv\")\n",
        "df = dff.dropna(axis=0)\n",
        "x = df.drop([\"target\" , \"ID_code\"] , axis=1)\n",
        "y = df[\"target\"]\n",
        "\n",
        "\n",
        "\n",
        "x_train , x_test , y_train , y_test = train_test_split(x ,\n",
        "                                                       y ,\n",
        "                                                       test_size=.2 ,\n",
        "                                                       random_state=42 ,\n",
        "                                                       stratify=y)\n",
        "\n",
        "# scaling data\n",
        "x_scaler = StandardScaler()\n",
        "x_scaler.fit(x_train)\n",
        "x_train = x_scaler.fit_transform(x_train)\n",
        "x_test = x_scaler.transform(x_test)\n",
        "\n"
      ]
    },
    {
      "cell_type": "code",
      "execution_count": null,
      "metadata": {
        "id": "8jXadxX4kHgl"
      },
      "outputs": [],
      "source": [
        "class CustomDataset(Dataset):\n",
        "  def __init__(self , data , target):\n",
        "    self.data = torch.tensor(data , dtype=torch.float32)\n",
        "    self.target = torch.tensor(target , dtype=torch.float32)\n",
        "\n",
        "  def __getitem__(self , ix):\n",
        "    return self.data[ix] , self.target[ix]\n",
        "\n",
        "  def __len__(self):\n",
        "    return len(self.data)\n",
        "\n",
        "train_dataset = CustomDataset(x_train , y_train.values.reshape(-1 , 1))\n",
        "val_dataset = CustomDataset(x_test , y_test.values.reshape(-1 , 1))\n",
        "\n",
        "train_loader = DataLoader(train_dataset , batch_size=32 , shuffle=True)\n",
        "val_loader = DataLoader(val_dataset , batch_size=32 , shuffle=False)"
      ]
    },
    {
      "cell_type": "code",
      "execution_count": null,
      "metadata": {
        "id": "Y8P5LsjomLcr"
      },
      "outputs": [],
      "source": [
        "class ManualClassification(nn.Module):\n",
        "  def __init__(self , input_dim):\n",
        "    super().__init__()\n",
        "    self.fc1 = nn.Linear(input_dim , 150 , bias=True)\n",
        "    self.bn1 = nn.BatchNorm1d(150)\n",
        "    self.fc2 = nn.Linear(150 , 100)\n",
        "    self.bn2 = nn.BatchNorm1d(100)\n",
        "    self.fc3 = nn.Linear(100 , 50)\n",
        "    self.bn3 = nn.BatchNorm1d(50)\n",
        "    self.fc4 = nn.Linear(50 , 25)\n",
        "    self.bn4 = nn.BatchNorm1d(25)\n",
        "    self.fc5 = nn.Linear(25 , 1)\n",
        "    self.relu = nn.ReLU()\n",
        "\n",
        "\n",
        "    self.drop1 = nn.Dropout(p=.5)\n",
        "    self.drop2 = nn.Dropout(p=.5)\n",
        "    self.drop3 = nn.Dropout(p=.5)\n",
        "    self.drop4 = nn.Dropout(p=.5)\n",
        "\n",
        "\n",
        "  def forward(self , x):\n",
        "    x = self.relu(self.bn1(self.fc1(x)))\n",
        "    x = self.drop1(x)\n",
        "    x = self.relu(self.bn2(self.fc2(x)))\n",
        "    x = self.drop2(x)\n",
        "    x = self.relu(self.bn3(self.fc3(x)))\n",
        "    x = self.drop3(x)\n",
        "    x = self.relu(self.bn4(self.fc4(x)))\n",
        "    x = self.drop4(x)\n",
        "    x = self.fc5(x)\n",
        "    return x"
      ]
    },
    {
      "cell_type": "code",
      "execution_count": null,
      "metadata": {
        "colab": {
          "base_uri": "https://localhost:8080/"
        },
        "id": "5tVdT6WnS_n2",
        "outputId": "16d3eff5-473a-43d7-a10a-14736d653851"
      },
      "outputs": [
        {
          "output_type": "stream",
          "name": "stdout",
          "text": [
            "Batch X: torch.Size([32, 200])\n",
            "Batch Y: torch.Size([32, 1])\n"
          ]
        }
      ],
      "source": [
        "for xb, yb in train_loader:\n",
        "    print(\"Batch X:\", xb.shape)\n",
        "    print(\"Batch Y:\", yb.shape)\n",
        "    break"
      ]
    },
    {
      "cell_type": "code",
      "execution_count": null,
      "metadata": {
        "colab": {
          "base_uri": "https://localhost:8080/"
        },
        "id": "6yNkH-ot83iH",
        "outputId": "fe4ad06e-c477-4e7d-c563-850ca5bf7801"
      },
      "outputs": [
        {
          "output_type": "stream",
          "name": "stdout",
          "text": [
            "torch.float32 torch.float32\n"
          ]
        }
      ],
      "source": [
        "for xb, yb in train_loader:\n",
        "    print(xb.dtype, yb.dtype)  # باید float32 باشه\n",
        "    break"
      ]
    },
    {
      "cell_type": "code",
      "execution_count": null,
      "metadata": {
        "colab": {
          "base_uri": "https://localhost:8080/"
        },
        "id": "DF6LI6jP88_e",
        "outputId": "9a8929aa-dba1-4207-aef2-f789cb99c901"
      },
      "outputs": [
        {
          "output_type": "execute_result",
          "data": {
            "text/plain": [
              "200"
            ]
          },
          "metadata": {},
          "execution_count": 25
        }
      ],
      "source": [
        "input_dim = x_train.shape[1]\n",
        "input_dim"
      ]
    },
    {
      "cell_type": "code",
      "execution_count": null,
      "metadata": {
        "id": "AP4IQYLaoSxh"
      },
      "outputs": [],
      "source": [
        "def accuracy(outputs , targets):\n",
        "    probs = torch.sigmoid(outputs)\n",
        "    preds = (probs >= 0.5).float()\n",
        "    correct = (preds == targets).sum().item()\n",
        "    return correct / 32\n",
        "\n",
        "def train(model , dataloader  , optimizer , loss_fn):\n",
        "  model.train()\n",
        "  total_loss = 0.0\n",
        "  total_acc = 0.0\n",
        "  for inputs , targets in dataloader:\n",
        "    inputs , targets = inputs.to(device) , targets.to(device)\n",
        "    optimizer.zero_grad()\n",
        "    outputs = model(inputs)\n",
        "    l1_regularization = 0\n",
        "    for param in model.parameters():\n",
        "      l1_regularization += torch.norm(param , 2)\n",
        "    loss = loss_fn(outputs , targets) + 0.001*l1_regularization\n",
        "    loss.backward()\n",
        "    optimizer.step()\n",
        "    total_loss += loss.item()\n",
        "    total_acc += accuracy(outputs , targets)\n",
        "  return total_loss / len(dataloader) , total_acc / len(dataloader)\n",
        "\n",
        "\n",
        "def validate(model , dataloader , loss_fn):\n",
        "  model.eval()\n",
        "  total_loss = 0.0\n",
        "  total_acc = 0.0\n",
        "  for inputs , targets in dataloader:\n",
        "    inputs , targets = inputs.to(device) , targets.to(device)\n",
        "    with torch.no_grad():\n",
        "      outputs = model(inputs)\n",
        "      l1_regularization = 0\n",
        "      for param in model.parameters():\n",
        "        l1_regularization += torch.norm(param , 2)\n",
        "    loss = loss_fn(outputs , targets) + 0.001*l1_regularization\n",
        "    total_loss += loss.item()\n",
        "    total_acc += accuracy(outputs , targets)\n",
        "  return total_loss / len(dataloader) , total_acc / len(dataloader)\n"
      ]
    },
    {
      "cell_type": "code",
      "execution_count": null,
      "metadata": {
        "colab": {
          "base_uri": "https://localhost:8080/",
          "height": 889
        },
        "id": "hnmU-LVGrVeN",
        "outputId": "8f35b430-b6c7-48fe-b5ae-b7bebffd876e"
      },
      "outputs": [
        {
          "output_type": "stream",
          "name": "stdout",
          "text": [
            "Epoch 1/20, Train Loss: 0.5293, Validation Loss: 0.3900, Train Accuracy: 0.8269, Validation Accuracy: 0.8998\n",
            "Epoch 2/20, Train Loss: 0.3913, Validation Loss: 0.3221, Train Accuracy: 0.8998, Validation Accuracy: 0.8998\n",
            "Epoch 3/20, Train Loss: 0.3528, Validation Loss: 0.3093, Train Accuracy: 0.8998, Validation Accuracy: 0.8998\n",
            "Epoch 4/20, Train Loss: 0.3342, Validation Loss: 0.3126, Train Accuracy: 0.8998, Validation Accuracy: 0.8998\n",
            "Epoch 5/20, Train Loss: 0.3251, Validation Loss: 0.3068, Train Accuracy: 0.8999, Validation Accuracy: 0.8998\n",
            "Epoch 6/20, Train Loss: 0.3201, Validation Loss: 0.3054, Train Accuracy: 0.9008, Validation Accuracy: 0.8998\n",
            "Epoch 7/20, Train Loss: 0.3185, Validation Loss: 0.3045, Train Accuracy: 0.9013, Validation Accuracy: 0.9000\n",
            "Epoch 8/20, Train Loss: 0.3145, Validation Loss: 0.3021, Train Accuracy: 0.9018, Validation Accuracy: 0.9000\n",
            "Epoch 9/20, Train Loss: 0.3130, Validation Loss: 0.3014, Train Accuracy: 0.9022, Validation Accuracy: 0.9003\n",
            "Epoch 10/20, Train Loss: 0.3112, Validation Loss: 0.3004, Train Accuracy: 0.9021, Validation Accuracy: 0.9003\n",
            "Epoch 11/20, Train Loss: 0.3088, Validation Loss: 0.2981, Train Accuracy: 0.9021, Validation Accuracy: 0.9005\n",
            "Epoch 12/20, Train Loss: 0.3064, Validation Loss: 0.2978, Train Accuracy: 0.9023, Validation Accuracy: 0.9001\n",
            "Epoch 13/20, Train Loss: 0.3034, Validation Loss: 0.2968, Train Accuracy: 0.9033, Validation Accuracy: 0.9016\n",
            "Epoch 14/20, Train Loss: 0.3020, Validation Loss: 0.2954, Train Accuracy: 0.9030, Validation Accuracy: 0.9014\n",
            "Epoch 15/20, Train Loss: 0.3003, Validation Loss: 0.2942, Train Accuracy: 0.9036, Validation Accuracy: 0.9017\n",
            "Epoch 16/20, Train Loss: 0.2983, Validation Loss: 0.2941, Train Accuracy: 0.9027, Validation Accuracy: 0.9033\n",
            "Epoch 17/20, Train Loss: 0.2975, Validation Loss: 0.2934, Train Accuracy: 0.9031, Validation Accuracy: 0.9044\n",
            "Epoch 18/20, Train Loss: 0.2954, Validation Loss: 0.2927, Train Accuracy: 0.9027, Validation Accuracy: 0.9008\n",
            "Epoch 19/20, Train Loss: 0.2955, Validation Loss: 0.2922, Train Accuracy: 0.9033, Validation Accuracy: 0.9004\n",
            "Epoch 20/20, Train Loss: 0.2936, Validation Loss: 0.2907, Train Accuracy: 0.9031, Validation Accuracy: 0.9034\n"
          ]
        },
        {
          "output_type": "stream",
          "name": "stderr",
          "text": [
            "/tmp/ipython-input-1880483736.py:41: UserWarning: set_ticklabels() should only be used with a fixed number of ticks, i.e. after set_ticks() or using a FixedLocator.\n",
            "  plt.gca().set_yticklabels(['{:.0f}%'.format(x*100) for x in  plt.gca().get_yticks()])\n"
          ]
        },
        {
          "output_type": "display_data",
          "data": {
            "text/plain": [
              "<Figure size 1200x500 with 2 Axes>"
            ],
            "image/png": "[encoded data removed]"
          },
          "metadata": {}
        }
      ],
      "source": [
        "torch.manual_seed(42)\n",
        "lr = .0001\n",
        "input_dim = x_train.shape[1]\n",
        "model = ManualClassification(input_dim).to(device)\n",
        "loss_fn = nn.BCEWithLogitsLoss()\n",
        "optimizer = optim.Adam(model.parameters() , lr=lr)\n",
        "epoches = 20\n",
        "train_acces, val_acces = [], []\n",
        "train_losses, val_losses = [], []\n",
        "\n",
        "\n",
        "for i in range(epoches):\n",
        "  train_loss , train_acc = train(model , train_loader , optimizer , loss_fn)\n",
        "  train_losses.append(train_loss) , train_acces.append(train_acc)\n",
        "  val_loss , val_acc = validate(model , val_loader , loss_fn)\n",
        "  val_losses.append(val_loss) , val_acces.append(val_acc)\n",
        "\n",
        "  print(f\"Epoch {i+1}/{epoches}, Train Loss: {train_loss:.4f}, Validation Loss: {val_loss:.4f}, \"\n",
        "        f\"Train Accuracy: {train_acc:.4f}, Validation Accuracy: {val_acc:.4f}\")\n",
        "\n",
        "\n",
        "\n",
        "\n",
        "\n",
        "plt.figure(figsize=(12, 5))\n",
        "plt.subplot(1, 2, 1)\n",
        "plt.plot(range(1, epoches + 1), train_losses, label='Train Loss')\n",
        "plt.plot(range(1, epoches + 1), val_losses, label='Validation Loss')\n",
        "plt.xlabel('Epoch')\n",
        "plt.ylabel('Loss')\n",
        "plt.title('Training and Validation Losses')\n",
        "plt.legend()\n",
        "\n",
        "# Plot accuracies\n",
        "plt.subplot(1, 2, 2)\n",
        "plt.plot(range(1, epoches + 1), train_acces, label='Train Accuracy')\n",
        "plt.plot(range(1, epoches + 1), val_acces, label='Validation Accuracy')\n",
        "plt.xlabel('Epoch')\n",
        "plt.ylabel('Accuracy')\n",
        "plt.title('Training and Validation Accuracies')\n",
        "plt.gca().set_yticklabels(['{:.0f}%'.format(x*100) for x in  plt.gca().get_yticks()])\n",
        "plt.legend()\n",
        "\n",
        "plt.show()"
      ]
    },
    {
      "cell_type": "code",
      "source": [
        "from sklearn.metrics import accuracy_score, precision_score, recall_score, f1_score\n",
        "\n",
        "x_test = x_scaler.inverse_transform(x_test)\n",
        "\n",
        "x_test_tensor = torch.tensor(x_test , dtype=torch.float , device=device)\n",
        "# y_test_tensor = torch.tensor(y_test.values.reshape(-1 , 1) , dtype=torch.float , device=device)\n",
        "\n",
        "\n",
        "model.eval()\n",
        "with torch.no_grad():\n",
        "    y_pred = model(x_test_tensor)\n",
        "    y_pred = torch.sigmoid(y_pred)\n",
        "    y_pred = (y_pred > 0.5).int()\n",
        "y_pred = y_pred.cpu().numpy()\n",
        "\n",
        "acc = accuracy_score(y_test , y_pred)\n",
        "prec = precision_score(y_test , y_pred)\n",
        "rec = recall_score(y_test , y_pred)\n",
        "f1 = f1_score(y_test , y_pred)\n",
        "\n",
        "\n",
        "print(f'accuracy_score : {acc:.4f}')\n",
        "print(f'precision_score : {prec:.4f}')\n",
        "print(f'recall_score : {rec:.4f}')\n",
        "print(f'f1_score : {f1:.4f}')\n"
      ],
      "metadata": {
        "id": "ql70ykfrsRWB",
        "colab": {
          "base_uri": "https://localhost:8080/"
        },
        "outputId": "d6c96a99-801c-4321-c300-fecdba30aeeb"
      },
      "execution_count": null,
      "outputs": [
        {
          "output_type": "stream",
          "name": "stdout",
          "text": [
            "accuracy_score : 0.3330\n",
            "precision_score : 0.1035\n",
            "recall_score : 0.7382\n",
            "f1_score : 0.1815\n"
          ]
        }
      ]
    }
  ],
  "metadata": {
    "accelerator": "GPU",
    "colab": {
      "gpuType": "T4",
      "provenance": []
    },
    "kernelspec": {
      "display_name": "Python 3",
      "name": "python3"
    },
    "language_info": {
      "name": "python"
    }
  },
  "nbformat": 4,
  "nbformat_minor": 0
}