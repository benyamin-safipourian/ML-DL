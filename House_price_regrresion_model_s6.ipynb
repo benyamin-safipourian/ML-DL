{
  "nbformat": 4,
  "nbformat_minor": 0,
  "metadata": {
    "colab": {
      "provenance": [],
      "gpuType": "T4"
    },
    "kernelspec": {
      "name": "python3",
      "display_name": "Python 3"
    },
    "language_info": {
      "name": "python"
    },
    "accelerator": "GPU"
  },
  "cells": [
    {
      "cell_type": "code",
      "execution_count": null,
      "metadata": {
        "id": "ZHIpm2jdpOlA"
      },
      "outputs": [],
      "source": [
        "import numpy as np\n",
        "import pandas as pd\n",
        "import torch\n",
        "from torch import nn\n",
        "from torch import optim\n",
        "from sklearn.preprocessing import StandardScaler\n",
        "from sklearn.model_selection import train_test_split\n",
        "from torch.utils.data import DataLoader , Dataset\n",
        "from sklearn.metrics import (mean_absolute_error,\n",
        "                             mean_absolute_percentage_error,\n",
        "                             mean_squared_error,\n",
        "                             r2_score)\n",
        "import matplotlib.pyplot as plt\n",
        "from sklearn.compose import ColumnTransformer\n"
      ]
    },
    {
      "cell_type": "code",
      "source": [
        "dff = pd.read_csv(\"/content/sample_data/HomeDataset_after_preprocess_04_06.csv\")\n",
        "df = dff.dropna(axis=0)\n",
        "x = df.drop([\"price\"] , axis=1)\n",
        "y = df[\"price\"]\n",
        "device = \"cuda\" if torch.cuda.is_available() else \"cpu\"\n",
        "\n",
        "# scaling data =>\n",
        "\n",
        "x_train, x_test, y_train, y_test = train_test_split(x,y, test_size=0.2, random_state= 42)\n",
        "\n",
        "columns_to_scale = ['num_floor', 'unit_per_floor',  'age', 'statuse', 'view',\n",
        "       'doc_status', 'floor', 'area',\n",
        "       'num_sleep', 'kitch', 'service', 'floor_covering',\n",
        "         'equipment', 'address_encoded',\n",
        "       'room_to_area']\n",
        "#scale the data\n",
        "x_scaler = StandardScaler()\n",
        "x_scaler.fit(x_train[columns_to_scale])\n",
        "x_train[columns_to_scale] = x_scaler.transform(x_train[columns_to_scale])\n",
        "x_test[columns_to_scale] = x_scaler.transform(x_test[columns_to_scale])\n",
        "\n",
        "\n",
        "y_scaler = StandardScaler()\n",
        "y_train = y_scaler.fit_transform(y_train.values.reshape(-1,1))\n",
        "y_test = y_scaler.transform(y_test.values.reshape(-1,1))\n"
      ],
      "metadata": {
        "id": "-XU3zZJbq_1I"
      },
      "execution_count": 45,
      "outputs": []
    },
    {
      "cell_type": "code",
      "source": [],
      "metadata": {
        "id": "99bJEyKgnn5n"
      },
      "execution_count": null,
      "outputs": []
    },
    {
      "cell_type": "code",
      "source": [
        "class ManualRegresion(nn.Module):\n",
        "  def __init__(self, input_dim):\n",
        "    super().__init__()\n",
        "    self.fc1 = nn.Linear(input_dim, 12)\n",
        "    self.fc2 = nn.Linear(12, 6)\n",
        "    self.fc3 = nn.Linear(6, 3)\n",
        "    self.fc4 = nn.Linear(3, 1)\n",
        "    self.relu = nn.ReLU()\n",
        "\n",
        "  def forward(self, x):\n",
        "    x = self.relu(self.fc1(x))\n",
        "    x = self.relu(self.fc2(x))\n",
        "    x = self.relu(self.fc3(x))\n",
        "    x = self.fc4(x)\n",
        "    return x\n",
        "\n",
        "\n",
        "\n",
        "\n",
        "class CustomDataset(Dataset):\n",
        "  def __init__(self, data, target):\n",
        "    self.data = torch.tensor(data, dtype = torch.float32)\n",
        "    self.target = torch.tensor(target, dtype = torch.float32)\n",
        "\n",
        "  def __getitem__(self, index):\n",
        "     return self.data[index], self.target[index]\n",
        "\n",
        "  def __len__(self):\n",
        "    return len(self.data)\n",
        "\n",
        "\n",
        "\n"
      ],
      "metadata": {
        "id": "M8Ty_vLs0-J2"
      },
      "execution_count": 43,
      "outputs": []
    },
    {
      "cell_type": "code",
      "source": [
        "# train_data = CustomDataset(x_train , y_train)\n",
        "# test_data = CustomDataset(x_test , y_test)\n",
        "\n",
        "train_dataset = CustomDataset(x_train.values, y_train)\n",
        "val_dataset = CustomDataset(x_test.values, y_test)\n",
        "\n",
        "batch_size = 32\n",
        "\n",
        "train_loader = DataLoader(train_dataset ,\n",
        "                          batch_size=batch_size ,\n",
        "                          shuffle = True)\n",
        "\n",
        "test_loader = DataLoader(val_dataset ,\n",
        "                          batch_size=batch_size ,\n",
        "                          shuffle = False)"
      ],
      "metadata": {
        "id": "XhyiZeMm26lH"
      },
      "execution_count": 38,
      "outputs": []
    },
    {
      "cell_type": "code",
      "source": [
        "def train(model , dataloader , optimizer , loss_fn ):\n",
        "  model.train()\n",
        "  epoch_loss = 0\n",
        "  for inputs , targets in dataloader:\n",
        "    inputs , targets = inputs.to(device) , targets.to(device)\n",
        "    optimizer.zero_grad()\n",
        "    output = model(inputs)\n",
        "    loss = loss_fn(targets , output)\n",
        "    loss.backward()\n",
        "    optimizer.step()\n",
        "    epoch_loss += loss.detach().cpu().item()\n",
        "  return epoch_loss / len(dataloader)\n",
        "\n",
        "\n",
        "\n",
        "def validate(model , dataloader , loss_fn ):\n",
        "  model.eval()\n",
        "  epoch_loss = 0\n",
        "  for inputs , targets in dataloader:\n",
        "    inputs , targets = inputs.to(device) , targets.to(device)\n",
        "    with torch.no_grad():\n",
        "      output = model(inputs)\n",
        "    loss = loss_fn(targets , output)\n",
        "    epoch_loss += loss.detach().cpu().item()\n",
        "  return epoch_loss / len(dataloader)\n",
        "\n",
        "\n"
      ],
      "metadata": {
        "id": "pVjDmC8fnXbq"
      },
      "execution_count": 39,
      "outputs": []
    },
    {
      "cell_type": "code",
      "source": [
        "torch.manual_seed(42)\n",
        "lr = .01\n",
        "input_dim = x_train.shape[1]\n",
        "normal_model = ManualRegresion(input_dim).to(device)\n",
        "optimizer = optim.SGD(normal_model.parameters(), lr = lr)\n",
        "loss_fn = nn.MSELoss()\n",
        "n_epochs = 500\n",
        "train_losses = []\n",
        "val_losses = []\n",
        "\n",
        "for epoch in range(n_epochs):\n",
        "  train_loss = train(normal_model,train_loader,optimizer, loss_fn)\n",
        "  train_losses.append(train_loss)\n",
        "  val_loss = validate(normal_model, test_loader, loss_fn)\n",
        "  val_losses.append(val_loss)\n",
        "  if (epoch + 1) % 50 == 0 or epoch == 0:\n",
        "    print(f'Epoch {epoch + 1}: train loss = {train_loss}, val loss = {val_loss}')\n",
        "\n",
        "plt.plot(range(n_epochs), train_losses)\n",
        "plt.plot(range(n_epochs), val_losses)\n",
        "plt.show()"
      ],
      "metadata": {
        "colab": {
          "base_uri": "https://localhost:8080/",
          "height": 621
        },
        "id": "3Zwjw1xV3RYe",
        "outputId": "da10168b-db48-460f-8983-bb23421cbb22"
      },
      "execution_count": 46,
      "outputs": [
        {
          "output_type": "stream",
          "name": "stdout",
          "text": [
            "Epoch 1: train loss = 0.9876733645796776, val loss = 1.0427060226599376\n",
            "Epoch 50: train loss = 0.20368683462341627, val loss = 0.2463062529762586\n",
            "Epoch 100: train loss = 0.17081681670000157, val loss = 0.2164164905746778\n",
            "Epoch 150: train loss = 0.15581763877222934, val loss = 0.2127211814125379\n",
            "Epoch 200: train loss = 0.14291304349899292, val loss = 0.22301940868298212\n",
            "Epoch 250: train loss = 0.1318686824912826, val loss = 0.22150972733894983\n",
            "Epoch 300: train loss = 0.12707130300501981, val loss = 0.22838777800401053\n",
            "Epoch 350: train loss = 0.12037485543017586, val loss = 0.23088427633047104\n",
            "Epoch 400: train loss = 0.11483131224910419, val loss = 0.23353108391165733\n",
            "Epoch 450: train loss = 0.10823612504949172, val loss = 0.23588157072663307\n",
            "Epoch 500: train loss = 0.10426815506070852, val loss = 0.2420079099635283\n"
          ]
        },
        {
          "output_type": "display_data",
          "data": {
            "text/plain": [
              "<Figure size 640x480 with 1 Axes>"
            ],
            "image/png": "[encoded data removed]"
          },
          "metadata": {}
        }
      ]
    }
  ]
}