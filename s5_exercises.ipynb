{
  "cells": [
    {
      "cell_type": "markdown",
      "metadata": {
        "id": "YluThavSflVm"
      },
      "source": []
    },
    {
      "cell_type": "markdown",
      "metadata": {
        "id": "hBgjujxHu911"
      },
      "source": [
        "## Exercise\n",
        "\n",
        "1. Load the dataset **`california_housing_train.csv`**.\n",
        "2. Use the provided model architecture to train the data.\n",
        "3. Monitor and record both **training loss** and **validation loss** during the training process.\n",
        "4. Plot the loss curves to visually compare the model’s performance on training and validation data.\n",
        "\n",
        "### Notes\n",
        "- Split the dataset into **training** and **validation** sets before training.\n",
        "- Watch for signs of **overfitting** or **underfitting** in the loss curves.\n",
        "- Report your final training and validation losses at the end of training.\n"
      ]
    },
    {
      "cell_type": "code",
      "execution_count": 10,
      "metadata": {
        "id": "z8icG7raSQSB"
      },
      "outputs": [],
      "source": [
        "import pandas as pd\n",
        "from sklearn.model_selection import train_test_split\n",
        "import torch\n",
        "\n",
        "df = pd.read_csv('california_housing_train.csv')\n",
        "x = df.drop(['median_house_value'], axis= 1)\n",
        "y = df['median_house_value']\n",
        "x_train, x_test, y_train, y_test = train_test_split(x,y, test_size=0.2, random_state= 42)\n",
        "device = 'cuda' if torch.cuda.is_available() else 'cpu'\n",
        "\n",
        "x_train_tensor = torch.tensor(x_train.values, dtype = torch.float32, device = device)\n",
        "y_train_tensor = torch.tensor(y_train.values.reshape(-1,1), dtype = torch.float32, device = device)\n",
        "\n",
        "x_test_tensor = torch.tensor(x_test.values, dtype = torch.float32, device = device)\n",
        "y_test_tensor = torch.tensor(y_test.values.reshape(-1,1), dtype = torch.float32, device = device)\n",
        "\n",
        "x_mu = x_train_tensor.mean(axis = 0)\n",
        "x_std = x_train_tensor.std(axis = 0)\n",
        "x_train_tensor_scaled = (x_train_tensor - x_mu)/(x_std)\n",
        "\n",
        "y_mu = y_train_tensor.mean()\n",
        "y_std = y_train_tensor.std()\n",
        "y_train_tensor_scaled = (y_train_tensor - y_mu)/(y_std)\n",
        "\n",
        "x_test_tensor_scaled = (x_test_tensor - x_mu)/(x_std)\n",
        "y_test_tensor_scaled = (y_test_tensor - y_mu)/(y_std)"
      ]
    },
    {
      "cell_type": "code",
      "execution_count": 11,
      "metadata": {
        "id": "jF2jnvQtYEwE"
      },
      "outputs": [],
      "source": [
        "from torch import nn\n",
        "\n",
        "class ManualRegresion(nn.Module):\n",
        "  def __init__(self, input_dim):\n",
        "    super().__init__()\n",
        "    self.fc1 = nn.Linear(input_dim, 5)\n",
        "    self.fc2 = nn.Linear(5, 3)\n",
        "    self.fc3 = nn.Linear(3,1)\n",
        "    self.relu = nn.ReLU()\n",
        "\n",
        "  def forward(self, x):\n",
        "    x = self.relu(self.fc1(x))\n",
        "    x = self.fc2(x)\n",
        "    x = self.relu(x)\n",
        "    x = self.fc3(x)\n",
        "    return x\n"
      ]
    },
    {
      "cell_type": "code",
      "execution_count": 12,
      "metadata": {
        "id": "7kdS0YGOt32u"
      },
      "outputs": [],
      "source": [
        "from torch import optim\n",
        "import matplotlib.pyplot as plt\n",
        "\n",
        "torch.manual_seed(42)\n",
        "lr = .01\n",
        "input_dim = x_train_tensor.shape[1]\n",
        "model = ManualRegresion(input_dim).to(device)\n",
        "optimizer = optim.SGD(model.parameters(), lr = lr)\n",
        "loss_fn = nn.MSELoss()\n",
        "n_epochs = 10000\n",
        "train_losses = []\n",
        "val_losses = []\n",
        "\n",
        "for epoch in range(n_epochs):\n",
        "  model.train()\n",
        "  optimizer.zero_grad()\n",
        "  y_pred = model(x_train_tensor_scaled)\n",
        "  loss = loss_fn(y_train_tensor_scaled, y_pred)\n",
        "  loss.backward()\n",
        "  optimizer.step()\n",
        "  train_losses.append(loss.detach().cpu().item())\n",
        "\n",
        "  model.eval()\n",
        "  with torch.no_grad():\n",
        "    y_pred = model(x_test_tensor_scaled)\n",
        "    test_loss = loss_fn(y_test_tensor_scaled, y_pred)\n",
        "    val_losses.append(test_loss.cpu().item())\n",
        "\n",
        "\n",
        "  if (epoch + 1) % 500 == 0 or epoch == 0:\n",
        "    print(f'Epoch {epoch + 1}: train loss = {loss.detach().cpu().item()}, val loss = {test_loss.cpu().item()}')\n",
        "\n",
        "plt.plot(range(n_epochs), train_losses)\n",
        "plt.plot(range(n_epochs), val_losses)\n",
        "plt.show()"
      ]
    },
    {
      "cell_type": "markdown",
      "metadata": {
        "id": "IHq3-a4Yu912"
      },
      "source": [
        "### Exercise: Build a Deep Model to Demonstrate Overfitting\n",
        "\n",
        "**Instructions:**\n",
        "\n",
        "You will create a deep fully-connected neural network for a regression task.  \n",
        "The architecture will be intentionally large compared to the dataset size so that overfitting can be observed.\n",
        "\n",
        "**Model Architecture:**\n",
        "- **Input layer**: number of neurons equal to the number of input features (`input_dim`).\n",
        "- **Hidden Layer 1**: 256 neurons, ReLU activation.\n",
        "- **Hidden Layer 2**: 128 neurons, ReLU activation.\n",
        "- **Hidden Layer 3**: 64 neurons, ReLU activation.\n",
        "- **Hidden Layer 4**: 32 neurons, ReLU activation.\n",
        "- **Hidden Layer 5**: 16 neurons, ReLU activation.\n",
        "- **Output Layer**: 1 neuron (no activation).\n",
        "\n",
        "**Steps:**\n",
        "1. Implement the above architecture using `torch.nn.Module`.\n",
        "2. Train the model **only on the first 100 samples** of the training dataset (`X_train`, `y_train`).\n",
        "3. Train for a sufficient number of epochs (e.g., 5000) to let the model memorize the training data.\n",
        "4. Record both **training loss** and **validation loss** over epochs.\n",
        "5. Plot both curves to observe:\n",
        "   - Training loss decreasing close to zero.\n",
        "   - Validation loss increasing after some point (a clear sign of overfitting).\n",
        "\n",
        "**Expected Output:**\n",
        "- A plot with two curves:  \n",
        "  - **Training loss** continuously decreasing.  \n",
        "  - **Validation loss** starting low but increasing after some epochs.\n",
        "- Clear evidence that the model has memorized the small training set instead of generalizing.\n"
      ]
    },
    {
      "cell_type": "code",
      "execution_count": 47,
      "metadata": {
        "id": "4jtZ4oTBu913"
      },
      "outputs": [],
      "source": [
        "import pandas as pd\n",
        "import numpy\n",
        "import matplotlib.pyplot as plt\n",
        "import torch\n",
        "from torch import nn\n",
        "from torch import optim\n",
        "from sklearn.model_selection import train_test_split"
      ]
    },
    {
      "cell_type": "code",
      "source": [
        "device = \"cuda\" if torch.cuda.is_available() else \"cpu\"\n",
        "df = pd.read_csv(\"/content/sample_data/california_housing_train.csv\")\n",
        "x = df.drop(\"median_house_value\" , axis=1)\n",
        "y = df[\"median_house_value\"]\n",
        "x_train , x_test , y_train , y_test = train_test_split(x, y, test_size=.2 , random_state=42)\n",
        "x_train = x_train[0:100]\n",
        "y_train = y_train[0:100]\n",
        "\n",
        "\n",
        "x_train_tensor = torch.tensor(x_train.values , dtype=torch.float , device = device)\n",
        "y_train_tensor = torch.tensor(y_train.values , dtype=torch.float , device = device).view(-1 , 1)\n",
        "x_test_tensor = torch.tensor(x_test.values , dtype=torch.float , device = device)\n",
        "y_test_tensor = torch.tensor(y_test.values , dtype=torch.float , device = device).view(-1 , 1)\n",
        "\n",
        "x_mu = x_train_tensor.mean(axis=0)\n",
        "x_std = x_train_tensor.std(axis=0)\n",
        "y_mu = y_train_tensor.mean(axis=0)\n",
        "y_std = y_train_tensor.std(axis=0)\n",
        "\n",
        "y_train_tensor_scaled = (y_train_tensor - y_mu) / (y_std)\n",
        "x_train_tensor_scaled = (x_train_tensor - x_mu) / (x_std)\n",
        "y_test_tensor_scaled = (y_test_tensor - y_mu) / (y_std)\n",
        "x_test_tensor_scaled = (x_test_tensor - x_mu) / (x_std)\n"
      ],
      "metadata": {
        "id": "wkxwOSwYw1rP"
      },
      "execution_count": 55,
      "outputs": []
    },
    {
      "cell_type": "code",
      "source": [
        "class ManualRegresion(nn.Module):\n",
        "  def __init__(self , input_dim):\n",
        "    super().__init__()\n",
        "    self.fc1 = nn.Linear(input_dim , 256)\n",
        "    self.fc2 = nn.Linear(256 , 128)\n",
        "    self.fc3 = nn.Linear(128 , 64)\n",
        "    self.fc4 = nn.Linear(64 , 32)\n",
        "    self.fc5 = nn.Linear(32 , 16)\n",
        "    self.fc6 = nn.Linear(16 , 1)\n",
        "    self.relu = nn.ReLU()\n",
        "\n",
        "\n",
        "  def forward(self , x):\n",
        "    x = self.relu(self.fc1(x))\n",
        "    x = self.relu(self.fc2(x))\n",
        "    x = self.relu(self.fc3(x))\n",
        "    x = self.relu(self.fc4(x))\n",
        "    x = self.relu(self.fc5(x))\n",
        "    x = self.fc6(x)\n",
        "    return x"
      ],
      "metadata": {
        "id": "yrb4_Nivw1g9"
      },
      "execution_count": 56,
      "outputs": []
    },
    {
      "cell_type": "code",
      "source": [
        "torch.manual_seed(42)\n",
        "input_dim = x_train_tensor_scaled.shape[1]\n",
        "model = ManualRegresion(input_dim).to(device)\n",
        "lr=0.01\n",
        "epoches = 10000\n",
        "optimizer = optim.SGD(model.parameters() , lr=lr)\n",
        "loss_fn = nn.MSELoss()\n",
        "train_losses = []\n",
        "val_losses = []\n",
        "\n",
        "\n",
        "for n in range(epoches):\n",
        "  model.train()\n",
        "  y_pred = model(x_train_tensor_scaled)\n",
        "  loss_train = loss_fn(y_train_tensor_scaled , y_pred)\n",
        "  loss_train.backward()\n",
        "  optimizer.step()\n",
        "  train_losses.append(loss_train.detach().cpu().item())\n",
        "  optimizer.zero_grad()\n",
        "\n",
        "  model.eval()\n",
        "  with torch.no_grad():\n",
        "    y_pred = model(x_test_tensor_scaled)\n",
        "    loss_val = loss_fn(y_test_tensor_scaled, y_pred)\n",
        "    val_losses.append(loss_val.detach().cpu().item())\n",
        "\n",
        "  if (n + 1) % 500 == 0 or n == 0:\n",
        "    print(f'Epoch {n + 1}: train loss = {loss_train.detach().cpu().item()}, val loss = {loss_val.cpu().item()}')\n"
      ],
      "metadata": {
        "colab": {
          "base_uri": "https://localhost:8080/"
        },
        "id": "fFLqJ6mnw1b2",
        "outputId": "6e155fa9-11a5-45dd-d1c1-35987a42d288"
      },
      "execution_count": 57,
      "outputs": [
        {
          "output_type": "stream",
          "name": "stdout",
          "text": [
            "Epoch 1: train loss = 1.0202949047088623, val loss = 1.0805134773254395\n",
            "Epoch 500: train loss = 0.555155873298645, val loss = 0.6630749702453613\n",
            "Epoch 1000: train loss = 0.08676832169294357, val loss = 0.43813738226890564\n",
            "Epoch 1500: train loss = 0.04729754477739334, val loss = 0.48257681727409363\n",
            "Epoch 2000: train loss = 0.028193555772304535, val loss = 0.4826323986053467\n",
            "Epoch 2500: train loss = 0.017235634848475456, val loss = 0.4872490167617798\n",
            "Epoch 3000: train loss = 0.010336382314562798, val loss = 0.4825964868068695\n",
            "Epoch 3500: train loss = 0.007850540801882744, val loss = 0.4827931523323059\n",
            "Epoch 4000: train loss = 0.005881073419004679, val loss = 0.48675772547721863\n",
            "Epoch 4500: train loss = 0.006005872972309589, val loss = 0.49403268098831177\n",
            "Epoch 5000: train loss = 0.0034404408652335405, val loss = 0.47901347279548645\n",
            "Epoch 5500: train loss = 0.004889133386313915, val loss = 0.49309203028678894\n",
            "Epoch 6000: train loss = 0.004509409889578819, val loss = 0.4926826059818268\n",
            "Epoch 6500: train loss = 0.004280677996575832, val loss = 0.49278438091278076\n",
            "Epoch 7000: train loss = 0.0029247659258544445, val loss = 0.4877624213695526\n",
            "Epoch 7500: train loss = 0.002682268153876066, val loss = 0.48804813623428345\n",
            "Epoch 8000: train loss = 0.0027633248828351498, val loss = 0.4890652000904083\n",
            "Epoch 8500: train loss = 0.000776319473516196, val loss = 0.4754590690135956\n",
            "Epoch 9000: train loss = 0.0007919615600258112, val loss = 0.4803064465522766\n",
            "Epoch 9500: train loss = 0.0015172776766121387, val loss = 0.4863731265068054\n",
            "Epoch 10000: train loss = 0.0008630353840999305, val loss = 0.4833814799785614\n"
          ]
        }
      ]
    },
    {
      "cell_type": "code",
      "source": [
        "plt.plot(range(epoches), train_losses)\n",
        "plt.plot(range(epoches), val_losses)\n",
        "plt.show()"
      ],
      "metadata": {
        "colab": {
          "base_uri": "https://localhost:8080/",
          "height": 430
        },
        "id": "wHG8n_7U7-Qw",
        "outputId": "62a0ab3b-8b37-4a7b-beb2-272606e44127"
      },
      "execution_count": 58,
      "outputs": [
        {
          "output_type": "display_data",
          "data": {
            "text/plain": [
              "<Figure size 640x480 with 1 Axes>"
            ],
            "image/png": "[encoded data removed]"
          },
          "metadata": {}
        }
      ]
    },
    {
      "cell_type": "markdown",
      "metadata": {
        "id": "w2dT7qTPu913"
      },
      "source": [
        "### Exercise: Build a Simple Model to Demonstrate Underfitting\n",
        "\n",
        "**Instructions:**\n",
        "\n",
        "You will create an extremely simple neural network for a regression task in order to observe **underfitting**.\n",
        "\n",
        "**Model Architecture:**\n",
        "- **Input Layer**: number of neurons equal to the number of input features (`input_dim`).\n",
        "- **Output Layer**: 1 neuron (no hidden layers, no activation function).\n",
        "\n",
        "**Steps:**\n",
        "1. Implement the above architecture using `torch.nn.Module`.\n",
        "2. Train the model on the **entire training dataset** (no sample limitation).\n",
        "3. Use the same training procedure as before (same optimizer and loss function), but **train for fewer epochs** than in the previous exercises.\n",
        "4. Record both **training loss** and **validation loss** over epochs.\n",
        "5. Plot both curves to observe:\n",
        "   - Training loss remains relatively high.\n",
        "   - Validation loss also remains high.\n",
        "   - Both indicate that the model is too simple to capture the complexity of the data (underfitting).\n",
        "\n",
        "**Expected Output:**\n",
        "- A loss plot showing minimal improvement over epochs.\n",
        "- Similar loss values for both training and validation sets, but both being higher than desired.\n",
        "\n"
      ]
    },
    {
      "cell_type": "code",
      "execution_count": 65,
      "metadata": {
        "id": "6E4Rsrzyu913"
      },
      "outputs": [],
      "source": [
        "from sklearn.preprocessing import StandardScaler\n",
        "\n",
        "device = \"cuda\" if torch.cuda.is_available() else \"cpu\"\n",
        "df = pd.read_csv(\"/content/sample_data/california_housing_train.csv\")\n",
        "x = df.drop(\"median_house_value\" , axis=1)\n",
        "y = df[\"median_house_value\"]\n",
        "x_train , x_test , y_train , y_test = train_test_split(x, y, test_size=.2 , random_state=42)\n",
        "\n",
        "\n",
        "# data scaling\n",
        "\n",
        "x_scaler = StandardScaler()\n",
        "x_scaler.fit(x_train)\n",
        "x_train = x_scaler.fit_transform(x_train)\n",
        "x_test = x_scaler.transform(x_test)\n",
        "\n",
        "y_scaler = StandardScaler()\n",
        "y_scaler.fit(y_train.values.reshape(-1, 1))\n",
        "y_train = y_scaler.fit_transform(y_train.values.reshape(-1 , 1))\n",
        "y_test = y_scaler.transform(y_test.values.reshape(-1 , 1))\n",
        "\n",
        "\n",
        "# convert to pytorch tensors\n",
        "x_train_tensor = torch.tensor(x_train , dtype=torch.float , device = device)\n",
        "y_train_tensor = torch.tensor(y_train , dtype=torch.float , device = device)\n",
        "x_test_tensor = torch.tensor(x_test , dtype=torch.float , device = device)\n",
        "y_test_tensor = torch.tensor(y_test , dtype=torch.float , device = device)\n",
        "\n",
        "\n"
      ]
    },
    {
      "cell_type": "code",
      "source": [
        "class ManualRegresion(nn.Module):\n",
        "  def __init__(self, input_dim):\n",
        "    super().__init__()\n",
        "    self.fc1 = nn.Linear(input_dim, 1)\n",
        "    self.relu = nn.ReLU()\n",
        "\n",
        "  def forward(self, x):\n",
        "    x = self.relu(self.fc1(x))\n",
        "    return x\n"
      ],
      "metadata": {
        "id": "v_bYPqpBN66W"
      },
      "execution_count": 66,
      "outputs": []
    },
    {
      "cell_type": "code",
      "source": [
        "torch.manual_seed(42)\n",
        "lr = .01\n",
        "input_dim = x_train_tensor.shape[1]\n",
        "model = ManualRegresion(input_dim).to(device)\n",
        "optimizer = optim.SGD(model.parameters(), lr = lr)\n",
        "loss_fn = nn.MSELoss()\n",
        "n_epochs = 50\n",
        "train_losses = []\n",
        "val_losses = []\n",
        "\n",
        "for epoch in range(n_epochs):\n",
        "  model.train()\n",
        "  optimizer.zero_grad()\n",
        "  y_pred = model(x_train_tensor_scaled)\n",
        "  loss = loss_fn(y_train_tensor_scaled, y_pred)\n",
        "  loss.backward()\n",
        "  optimizer.step()\n",
        "  train_losses.append(loss.detach().cpu().item())\n",
        "\n",
        "  model.eval()\n",
        "  with torch.no_grad():\n",
        "    y_pred = model(x_test_tensor_scaled)\n",
        "    test_loss = loss_fn(y_test_tensor_scaled, y_pred)\n",
        "    val_losses.append(test_loss.cpu().item())\n"
      ],
      "metadata": {
        "id": "7cbkxJh_N6u6"
      },
      "execution_count": 69,
      "outputs": []
    },
    {
      "cell_type": "code",
      "execution_count": null,
      "metadata": {
        "id": "ntZ-7dByu913",
        "outputId": "e6a1db1b-7b64-4fb2-d5d5-9e9fdffa7731"
      },
      "outputs": [
        {
          "name": "stdout",
          "output_type": "stream",
          "text": [
            "Epoch 1: train loss = 0.697185218334198, val loss = 0.6835914850234985\n",
            "Epoch 10: train loss = 0.6516306400299072, val loss = 0.6388094425201416\n",
            "Epoch 20: train loss = 0.6174384951591492, val loss = 0.6043758392333984\n",
            "Epoch 30: train loss = 0.5927644968032837, val loss = 0.5791386961936951\n",
            "Epoch 40: train loss = 0.5741038918495178, val loss = 0.559846043586731\n",
            "Epoch 50: train loss = 0.5595171451568604, val loss = 0.5446444749832153\n"
          ]
        },
        {
          "data": {
            "image/png": "[encoded data removed]",
            "text/plain": [
              "<Figure size 640x480 with 1 Axes>"
            ]
          },
          "metadata": {},
          "output_type": "display_data"
        }
      ],
      "source": []
    }
  ],
  "metadata": {
    "accelerator": "GPU",
    "colab": {
      "gpuType": "T4",
      "provenance": []
    },
    "kernelspec": {
      "display_name": "env",
      "language": "python",
      "name": "python3"
    },
    "language_info": {
      "codemirror_mode": {
        "name": "ipython",
        "version": 3
      },
      "file_extension": ".py",
      "mimetype": "text/x-python",
      "name": "python",
      "nbconvert_exporter": "python",
      "pygments_lexer": "ipython3",
      "version": "3.10.6"
    }
  },
  "nbformat": 4,
  "nbformat_minor": 0
}