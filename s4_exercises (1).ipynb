{
  "cells": [
    {
      "cell_type": "markdown",
      "metadata": {
        "id": "YluThavSflVm"
      },
      "source": []
    },
    {
      "cell_type": "markdown",
      "metadata": {
        "id": "THuSWSyZh3Gl"
      },
      "source": [
        "### Exercise: Load and Preview the California Housing Dataset\n",
        "\n",
        "**Instructions:**\n",
        "\n",
        "1. Read the dataset file `california_housing_train.csv` using the `pandas` library.\n",
        "2. Print the first 5 rows of the dataset.\n",
        "\n",
        "**Expected Output:**\n",
        "\n",
        "The first 5 rows of the dataset should be displayed, showing columns like `longitude`, `latitude`, `housing_median_age`, etc.\n"
      ]
    },
    {
      "cell_type": "code",
      "execution_count": 1,
      "metadata": {
        "colab": {
          "base_uri": "https://localhost:8080/",
          "height": 206
        },
        "id": "z8icG7raSQSB",
        "outputId": "a28f15db-1fcb-4738-a2c3-cd68dabb304c"
      },
      "outputs": [
        {
          "output_type": "execute_result",
          "data": {
            "text/plain": [
              "   longitude  latitude  housing_median_age  total_rooms  total_bedrooms  \\\n",
              "0    -114.31     34.19                15.0       5612.0          1283.0   \n",
              "1    -114.47     34.40                19.0       7650.0          1901.0   \n",
              "2    -114.56     33.69                17.0        720.0           174.0   \n",
              "3    -114.57     33.64                14.0       1501.0           337.0   \n",
              "4    -114.57     33.57                20.0       1454.0           326.0   \n",
              "\n",
              "   population  households  median_income  median_house_value  \n",
              "0      1015.0       472.0         1.4936             66900.0  \n",
              "1      1129.0       463.0         1.8200             80100.0  \n",
              "2       333.0       117.0         1.6509             85700.0  \n",
              "3       515.0       226.0         3.1917             73400.0  \n",
              "4       624.0       262.0         1.9250             65500.0  "
            ],
            "text/html": [
              "\n",
              "  <div id=\"df-71059636-b281-4278-a56a-f74ca39cd6d0\" class=\"colab-df-container\">\n",
              "    <div>\n",
              "<style scoped>\n",
              "    .dataframe tbody tr th:only-of-type {\n",
              "        vertical-align: middle;\n",
              "    }\n",
              "\n",
              "    .dataframe tbody tr th {\n",
              "        vertical-align: top;\n",
              "    }\n",
              "\n",
              "    .dataframe thead th {\n",
              "        text-align: right;\n",
              "    }\n",
              "</style>\n",
              "<table border=\"1\" class=\"dataframe\">\n",
              "  <thead>\n",
              "    <tr style=\"text-align: right;\">\n",
              "      <th></th>\n",
              "      <th>longitude</th>\n",
              "      <th>latitude</th>\n",
              "      <th>housing_median_age</th>\n",
              "      <th>total_rooms</th>\n",
              "      <th>total_bedrooms</th>\n",
              "      <th>population</th>\n",
              "      <th>households</th>\n",
              "      <th>median_income</th>\n",
              "      <th>median_house_value</th>\n",
              "    </tr>\n",
              "  </thead>\n",
              "  <tbody>\n",
              "    <tr>\n",
              "      <th>0</th>\n",
              "      <td>-114.31</td>\n",
              "      <td>34.19</td>\n",
              "      <td>15.0</td>\n",
              "      <td>5612.0</td>\n",
              "      <td>1283.0</td>\n",
              "      <td>1015.0</td>\n",
              "      <td>472.0</td>\n",
              "      <td>1.4936</td>\n",
              "      <td>66900.0</td>\n",
              "    </tr>\n",
              "    <tr>\n",
              "      <th>1</th>\n",
              "      <td>-114.47</td>\n",
              "      <td>34.40</td>\n",
              "      <td>19.0</td>\n",
              "      <td>7650.0</td>\n",
              "      <td>1901.0</td>\n",
              "      <td>1129.0</td>\n",
              "      <td>463.0</td>\n",
              "      <td>1.8200</td>\n",
              "      <td>80100.0</td>\n",
              "    </tr>\n",
              "    <tr>\n",
              "      <th>2</th>\n",
              "      <td>-114.56</td>\n",
              "      <td>33.69</td>\n",
              "      <td>17.0</td>\n",
              "      <td>720.0</td>\n",
              "      <td>174.0</td>\n",
              "      <td>333.0</td>\n",
              "      <td>117.0</td>\n",
              "      <td>1.6509</td>\n",
              "      <td>85700.0</td>\n",
              "    </tr>\n",
              "    <tr>\n",
              "      <th>3</th>\n",
              "      <td>-114.57</td>\n",
              "      <td>33.64</td>\n",
              "      <td>14.0</td>\n",
              "      <td>1501.0</td>\n",
              "      <td>337.0</td>\n",
              "      <td>515.0</td>\n",
              "      <td>226.0</td>\n",
              "      <td>3.1917</td>\n",
              "      <td>73400.0</td>\n",
              "    </tr>\n",
              "    <tr>\n",
              "      <th>4</th>\n",
              "      <td>-114.57</td>\n",
              "      <td>33.57</td>\n",
              "      <td>20.0</td>\n",
              "      <td>1454.0</td>\n",
              "      <td>326.0</td>\n",
              "      <td>624.0</td>\n",
              "      <td>262.0</td>\n",
              "      <td>1.9250</td>\n",
              "      <td>65500.0</td>\n",
              "    </tr>\n",
              "  </tbody>\n",
              "</table>\n",
              "</div>\n",
              "    <div class=\"colab-df-buttons\">\n",
              "\n",
              "  <div class=\"colab-df-container\">\n",
              "    <button class=\"colab-df-convert\" onclick=\"convertToInteractive('df-71059636-b281-4278-a56a-f74ca39cd6d0')\"\n",
              "            title=\"Convert this dataframe to an interactive table.\"\n",
              "            style=\"display:none;\">\n",
              "\n",
              "  <svg xmlns=\"http://www.w3.org/2000/svg\" height=\"24px\" viewBox=\"0 -960 960 960\">\n",
              "    <path d=\"M120-120v-720h720v720H120Zm60-500h600v-160H180v160Zm220 220h160v-160H400v160Zm0 220h160v-160H400v160ZM180-400h160v-160H180v160Zm440 0h160v-160H620v160ZM180-180h160v-160H180v160Zm440 0h160v-160H620v160Z\"/>\n",
              "  </svg>\n",
              "    </button>\n",
              "\n",
              "  <style>\n",
              "    .colab-df-container {\n",
              "      display:flex;\n",
              "      gap: 12px;\n",
              "    }\n",
              "\n",
              "    .colab-df-convert {\n",
              "      background-color: #E8F0FE;\n",
              "      border: none;\n",
              "      border-radius: 50%;\n",
              "      cursor: pointer;\n",
              "      display: none;\n",
              "      fill: #1967D2;\n",
              "      height: 32px;\n",
              "      padding: 0 0 0 0;\n",
              "      width: 32px;\n",
              "    }\n",
              "\n",
              "    .colab-df-convert:hover {\n",
              "      background-color: #E2EBFA;\n",
              "      box-shadow: 0px 1px 2px rgba(60, 64, 67, 0.3), 0px 1px 3px 1px rgba(60, 64, 67, 0.15);\n",
              "      fill: #174EA6;\n",
              "    }\n",
              "\n",
              "    .colab-df-buttons div {\n",
              "      margin-bottom: 4px;\n",
              "    }\n",
              "\n",
              "    [theme=dark] .colab-df-convert {\n",
              "      background-color: #3B4455;\n",
              "      fill: #D2E3FC;\n",
              "    }\n",
              "\n",
              "    [theme=dark] .colab-df-convert:hover {\n",
              "      background-color: #434B5C;\n",
              "      box-shadow: 0px 1px 3px 1px rgba(0, 0, 0, 0.15);\n",
              "      filter: drop-shadow(0px 1px 2px rgba(0, 0, 0, 0.3));\n",
              "      fill: #FFFFFF;\n",
              "    }\n",
              "  </style>\n",
              "\n",
              "    <script>\n",
              "      const buttonEl =\n",
              "        document.querySelector('#df-71059636-b281-4278-a56a-f74ca39cd6d0 button.colab-df-convert');\n",
              "      buttonEl.style.display =\n",
              "        google.colab.kernel.accessAllowed ? 'block' : 'none';\n",
              "\n",
              "      async function convertToInteractive(key) {\n",
              "        const element = document.querySelector('#df-71059636-b281-4278-a56a-f74ca39cd6d0');\n",
              "        const dataTable =\n",
              "          await google.colab.kernel.invokeFunction('convertToInteractive',\n",
              "                                                    [key], {});\n",
              "        if (!dataTable) return;\n",
              "\n",
              "        const docLinkHtml = 'Like what you see? Visit the ' +\n",
              "          '<a target=\"_blank\" href=https://colab.research.google.com/notebooks/data_table.ipynb>data table notebook</a>'\n",
              "          + ' to learn more about interactive tables.';\n",
              "        element.innerHTML = '';\n",
              "        dataTable['output_type'] = 'display_data';\n",
              "        await google.colab.output.renderOutput(dataTable, element);\n",
              "        const docLink = document.createElement('div');\n",
              "        docLink.innerHTML = docLinkHtml;\n",
              "        element.appendChild(docLink);\n",
              "      }\n",
              "    </script>\n",
              "  </div>\n",
              "\n",
              "\n",
              "    <div id=\"df-9c3ee03f-ed0f-4bff-897c-7c45776ddcfd\">\n",
              "      <button class=\"colab-df-quickchart\" onclick=\"quickchart('df-9c3ee03f-ed0f-4bff-897c-7c45776ddcfd')\"\n",
              "                title=\"Suggest charts\"\n",
              "                style=\"display:none;\">\n",
              "\n",
              "<svg xmlns=\"http://www.w3.org/2000/svg\" height=\"24px\"viewBox=\"0 0 24 24\"\n",
              "     width=\"24px\">\n",
              "    <g>\n",
              "        <path d=\"M19 3H5c-1.1 0-2 .9-2 2v14c0 1.1.9 2 2 2h14c1.1 0 2-.9 2-2V5c0-1.1-.9-2-2-2zM9 17H7v-7h2v7zm4 0h-2V7h2v10zm4 0h-2v-4h2v4z\"/>\n",
              "    </g>\n",
              "</svg>\n",
              "      </button>\n",
              "\n",
              "<style>\n",
              "  .colab-df-quickchart {\n",
              "      --bg-color: #E8F0FE;\n",
              "      --fill-color: #1967D2;\n",
              "      --hover-bg-color: #E2EBFA;\n",
              "      --hover-fill-color: #174EA6;\n",
              "      --disabled-fill-color: #AAA;\n",
              "      --disabled-bg-color: #DDD;\n",
              "  }\n",
              "\n",
              "  [theme=dark] .colab-df-quickchart {\n",
              "      --bg-color: #3B4455;\n",
              "      --fill-color: #D2E3FC;\n",
              "      --hover-bg-color: #434B5C;\n",
              "      --hover-fill-color: #FFFFFF;\n",
              "      --disabled-bg-color: #3B4455;\n",
              "      --disabled-fill-color: #666;\n",
              "  }\n",
              "\n",
              "  .colab-df-quickchart {\n",
              "    background-color: var(--bg-color);\n",
              "    border: none;\n",
              "    border-radius: 50%;\n",
              "    cursor: pointer;\n",
              "    display: none;\n",
              "    fill: var(--fill-color);\n",
              "    height: 32px;\n",
              "    padding: 0;\n",
              "    width: 32px;\n",
              "  }\n",
              "\n",
              "  .colab-df-quickchart:hover {\n",
              "    background-color: var(--hover-bg-color);\n",
              "    box-shadow: 0 1px 2px rgba(60, 64, 67, 0.3), 0 1px 3px 1px rgba(60, 64, 67, 0.15);\n",
              "    fill: var(--button-hover-fill-color);\n",
              "  }\n",
              "\n",
              "  .colab-df-quickchart-complete:disabled,\n",
              "  .colab-df-quickchart-complete:disabled:hover {\n",
              "    background-color: var(--disabled-bg-color);\n",
              "    fill: var(--disabled-fill-color);\n",
              "    box-shadow: none;\n",
              "  }\n",
              "\n",
              "  .colab-df-spinner {\n",
              "    border: 2px solid var(--fill-color);\n",
              "    border-color: transparent;\n",
              "    border-bottom-color: var(--fill-color);\n",
              "    animation:\n",
              "      spin 1s steps(1) infinite;\n",
              "  }\n",
              "\n",
              "  @keyframes spin {\n",
              "    0% {\n",
              "      border-color: transparent;\n",
              "      border-bottom-color: var(--fill-color);\n",
              "      border-left-color: var(--fill-color);\n",
              "    }\n",
              "    20% {\n",
              "      border-color: transparent;\n",
              "      border-left-color: var(--fill-color);\n",
              "      border-top-color: var(--fill-color);\n",
              "    }\n",
              "    30% {\n",
              "      border-color: transparent;\n",
              "      border-left-color: var(--fill-color);\n",
              "      border-top-color: var(--fill-color);\n",
              "      border-right-color: var(--fill-color);\n",
              "    }\n",
              "    40% {\n",
              "      border-color: transparent;\n",
              "      border-right-color: var(--fill-color);\n",
              "      border-top-color: var(--fill-color);\n",
              "    }\n",
              "    60% {\n",
              "      border-color: transparent;\n",
              "      border-right-color: var(--fill-color);\n",
              "    }\n",
              "    80% {\n",
              "      border-color: transparent;\n",
              "      border-right-color: var(--fill-color);\n",
              "      border-bottom-color: var(--fill-color);\n",
              "    }\n",
              "    90% {\n",
              "      border-color: transparent;\n",
              "      border-bottom-color: var(--fill-color);\n",
              "    }\n",
              "  }\n",
              "</style>\n",
              "\n",
              "      <script>\n",
              "        async function quickchart(key) {\n",
              "          const quickchartButtonEl =\n",
              "            document.querySelector('#' + key + ' button');\n",
              "          quickchartButtonEl.disabled = true;  // To prevent multiple clicks.\n",
              "          quickchartButtonEl.classList.add('colab-df-spinner');\n",
              "          try {\n",
              "            const charts = await google.colab.kernel.invokeFunction(\n",
              "                'suggestCharts', [key], {});\n",
              "          } catch (error) {\n",
              "            console.error('Error during call to suggestCharts:', error);\n",
              "          }\n",
              "          quickchartButtonEl.classList.remove('colab-df-spinner');\n",
              "          quickchartButtonEl.classList.add('colab-df-quickchart-complete');\n",
              "        }\n",
              "        (() => {\n",
              "          let quickchartButtonEl =\n",
              "            document.querySelector('#df-9c3ee03f-ed0f-4bff-897c-7c45776ddcfd button');\n",
              "          quickchartButtonEl.style.display =\n",
              "            google.colab.kernel.accessAllowed ? 'block' : 'none';\n",
              "        })();\n",
              "      </script>\n",
              "    </div>\n",
              "    </div>\n",
              "  </div>\n"
            ],
            "application/vnd.google.colaboratory.intrinsic+json": {
              "type": "dataframe",
              "variable_name": "df",
              "summary": "{\n  \"name\": \"df\",\n  \"rows\": 17000,\n  \"fields\": [\n    {\n      \"column\": \"longitude\",\n      \"properties\": {\n        \"dtype\": \"number\",\n        \"std\": 2.005166408426173,\n        \"min\": -124.35,\n        \"max\": -114.31,\n        \"num_unique_values\": 827,\n        \"samples\": [\n          -117.56,\n          -123.32,\n          -118.26\n        ],\n        \"semantic_type\": \"\",\n        \"description\": \"\"\n      }\n    },\n    {\n      \"column\": \"latitude\",\n      \"properties\": {\n        \"dtype\": \"number\",\n        \"std\": 2.1373397946570734,\n        \"min\": 32.54,\n        \"max\": 41.95,\n        \"num_unique_values\": 840,\n        \"samples\": [\n          38.44,\n          40.79,\n          32.69\n        ],\n        \"semantic_type\": \"\",\n        \"description\": \"\"\n      }\n    },\n    {\n      \"column\": \"housing_median_age\",\n      \"properties\": {\n        \"dtype\": \"number\",\n        \"std\": 12.586936981660335,\n        \"min\": 1.0,\n        \"max\": 52.0,\n        \"num_unique_values\": 52,\n        \"samples\": [\n          23.0,\n          52.0,\n          47.0\n        ],\n        \"semantic_type\": \"\",\n        \"description\": \"\"\n      }\n    },\n    {\n      \"column\": \"total_rooms\",\n      \"properties\": {\n        \"dtype\": \"number\",\n        \"std\": 2179.947071452768,\n        \"min\": 2.0,\n        \"max\": 37937.0,\n        \"num_unique_values\": 5533,\n        \"samples\": [\n          3564.0,\n          6955.0,\n          5451.0\n        ],\n        \"semantic_type\": \"\",\n        \"description\": \"\"\n      }\n    },\n    {\n      \"column\": \"total_bedrooms\",\n      \"properties\": {\n        \"dtype\": \"number\",\n        \"std\": 421.49945157986514,\n        \"min\": 1.0,\n        \"max\": 6445.0,\n        \"num_unique_values\": 1848,\n        \"samples\": [\n          729.0,\n          719.0,\n          2075.0\n        ],\n        \"semantic_type\": \"\",\n        \"description\": \"\"\n      }\n    },\n    {\n      \"column\": \"population\",\n      \"properties\": {\n        \"dtype\": \"number\",\n        \"std\": 1147.852959159525,\n        \"min\": 3.0,\n        \"max\": 35682.0,\n        \"num_unique_values\": 3683,\n        \"samples\": [\n          249.0,\n          1735.0,\n          235.0\n        ],\n        \"semantic_type\": \"\",\n        \"description\": \"\"\n      }\n    },\n    {\n      \"column\": \"households\",\n      \"properties\": {\n        \"dtype\": \"number\",\n        \"std\": 384.52084085590013,\n        \"min\": 1.0,\n        \"max\": 6082.0,\n        \"num_unique_values\": 1740,\n        \"samples\": [\n          390.0,\n          1089.0,\n          1351.0\n        ],\n        \"semantic_type\": \"\",\n        \"description\": \"\"\n      }\n    },\n    {\n      \"column\": \"median_income\",\n      \"properties\": {\n        \"dtype\": \"number\",\n        \"std\": 1.908156518379093,\n        \"min\": 0.4999,\n        \"max\": 15.0001,\n        \"num_unique_values\": 11175,\n        \"samples\": [\n          7.2655,\n          5.6293,\n          4.2262\n        ],\n        \"semantic_type\": \"\",\n        \"description\": \"\"\n      }\n    },\n    {\n      \"column\": \"median_house_value\",\n      \"properties\": {\n        \"dtype\": \"number\",\n        \"std\": 115983.76438720913,\n        \"min\": 14999.0,\n        \"max\": 500001.0,\n        \"num_unique_values\": 3694,\n        \"samples\": [\n          162300.0,\n          346800.0,\n          116700.0\n        ],\n        \"semantic_type\": \"\",\n        \"description\": \"\"\n      }\n    }\n  ]\n}"
            }
          },
          "metadata": {},
          "execution_count": 1
        }
      ],
      "source": [
        "import pandas as pd\n",
        "df = pd.read_csv(\"/content/sample_data/california_housing_train.csv\")\n",
        "\n",
        "df.head()"
      ]
    },
    {
      "cell_type": "code",
      "execution_count": 2,
      "metadata": {
        "colab": {
          "base_uri": "https://localhost:8080/"
        },
        "id": "vSnhsBQ2TMbF",
        "outputId": "a528d836-2a0d-4e9f-c77a-ce9904ceabf7"
      },
      "outputs": [
        {
          "output_type": "execute_result",
          "data": {
            "text/plain": [
              "(17000, 9)"
            ]
          },
          "metadata": {},
          "execution_count": 2
        }
      ],
      "source": [
        "df.shape"
      ]
    },
    {
      "cell_type": "code",
      "source": [
        "import matplotlib.pyplot as plt\n",
        "plt.scatter(df.longitude , df.latitude , s=df.median_income / 10, c =df.median_house_value , cmap = \"Reds\")\n",
        "plt.show()"
      ],
      "metadata": {
        "colab": {
          "base_uri": "https://localhost:8080/",
          "height": 430
        },
        "id": "2YQpPLvz9fUn",
        "outputId": "ae04d91a-5ba7-4b51-b37c-39ad088a82d0"
      },
      "execution_count": 3,
      "outputs": [
        {
          "output_type": "display_data",
          "data": {
            "text/plain": [
              "<Figure size 640x480 with 1 Axes>"
            ],
            "image/png": "[encoded data removed]"
          },
          "metadata": {}
        }
      ]
    },
    {
      "cell_type": "code",
      "source": [],
      "metadata": {
        "id": "YsiFWhcT9fSI"
      },
      "execution_count": 3,
      "outputs": []
    },
    {
      "cell_type": "code",
      "source": [],
      "metadata": {
        "id": "aVEPnevC9fPk"
      },
      "execution_count": 3,
      "outputs": []
    },
    {
      "cell_type": "markdown",
      "metadata": {
        "id": "iJ8OK_s3iVHN"
      },
      "source": [
        "### Exercise: Separate Features (X) and Target (y)\n",
        "\n",
        "**Instructions:**\n",
        "\n",
        "1. Use the California housing dataset loaded in the previous step.\n",
        "2. Define `X` as the feature matrix by removing the target column.\n",
        "3. Define `y` as the target vector. The target column is usually named `median_house_value`.\n",
        "\n",
        "**Expected Output:**\n",
        "\n",
        "- `X` should be a DataFrame containing all columns **except** `median_house_value`.\n",
        "- `y` should be a Series containing only the `median_house_value` column.\n"
      ]
    },
    {
      "cell_type": "code",
      "execution_count": 4,
      "metadata": {
        "id": "yD2hb461TYuP"
      },
      "outputs": [],
      "source": [
        "x = df.drop([\"median_house_value\"] , axis=1)\n",
        "y = df.median_house_value"
      ]
    },
    {
      "cell_type": "markdown",
      "metadata": {
        "id": "M9Ksj8TFixd9"
      },
      "source": [
        "Print the first 5 rows of the x."
      ]
    },
    {
      "cell_type": "code",
      "execution_count": 5,
      "metadata": {
        "id": "_PhCI1QyjEKV",
        "colab": {
          "base_uri": "https://localhost:8080/",
          "height": 206
        },
        "outputId": "f318ad8b-1ec0-4e88-cff4-d7324c36319e"
      },
      "outputs": [
        {
          "output_type": "execute_result",
          "data": {
            "text/plain": [
              "   longitude  latitude  housing_median_age  total_rooms  total_bedrooms  \\\n",
              "0    -114.31     34.19                15.0       5612.0          1283.0   \n",
              "1    -114.47     34.40                19.0       7650.0          1901.0   \n",
              "2    -114.56     33.69                17.0        720.0           174.0   \n",
              "3    -114.57     33.64                14.0       1501.0           337.0   \n",
              "4    -114.57     33.57                20.0       1454.0           326.0   \n",
              "\n",
              "   population  households  median_income  \n",
              "0      1015.0       472.0         1.4936  \n",
              "1      1129.0       463.0         1.8200  \n",
              "2       333.0       117.0         1.6509  \n",
              "3       515.0       226.0         3.1917  \n",
              "4       624.0       262.0         1.9250  "
            ],
            "text/html": [
              "\n",
              "  <div id=\"df-c9e51378-bcb1-4298-9097-4e99c389a19a\" class=\"colab-df-container\">\n",
              "    <div>\n",
              "<style scoped>\n",
              "    .dataframe tbody tr th:only-of-type {\n",
              "        vertical-align: middle;\n",
              "    }\n",
              "\n",
              "    .dataframe tbody tr th {\n",
              "        vertical-align: top;\n",
              "    }\n",
              "\n",
              "    .dataframe thead th {\n",
              "        text-align: right;\n",
              "    }\n",
              "</style>\n",
              "<table border=\"1\" class=\"dataframe\">\n",
              "  <thead>\n",
              "    <tr style=\"text-align: right;\">\n",
              "      <th></th>\n",
              "      <th>longitude</th>\n",
              "      <th>latitude</th>\n",
              "      <th>housing_median_age</th>\n",
              "      <th>total_rooms</th>\n",
              "      <th>total_bedrooms</th>\n",
              "      <th>population</th>\n",
              "      <th>households</th>\n",
              "      <th>median_income</th>\n",
              "    </tr>\n",
              "  </thead>\n",
              "  <tbody>\n",
              "    <tr>\n",
              "      <th>0</th>\n",
              "      <td>-114.31</td>\n",
              "      <td>34.19</td>\n",
              "      <td>15.0</td>\n",
              "      <td>5612.0</td>\n",
              "      <td>1283.0</td>\n",
              "      <td>1015.0</td>\n",
              "      <td>472.0</td>\n",
              "      <td>1.4936</td>\n",
              "    </tr>\n",
              "    <tr>\n",
              "      <th>1</th>\n",
              "      <td>-114.47</td>\n",
              "      <td>34.40</td>\n",
              "      <td>19.0</td>\n",
              "      <td>7650.0</td>\n",
              "      <td>1901.0</td>\n",
              "      <td>1129.0</td>\n",
              "      <td>463.0</td>\n",
              "      <td>1.8200</td>\n",
              "    </tr>\n",
              "    <tr>\n",
              "      <th>2</th>\n",
              "      <td>-114.56</td>\n",
              "      <td>33.69</td>\n",
              "      <td>17.0</td>\n",
              "      <td>720.0</td>\n",
              "      <td>174.0</td>\n",
              "      <td>333.0</td>\n",
              "      <td>117.0</td>\n",
              "      <td>1.6509</td>\n",
              "    </tr>\n",
              "    <tr>\n",
              "      <th>3</th>\n",
              "      <td>-114.57</td>\n",
              "      <td>33.64</td>\n",
              "      <td>14.0</td>\n",
              "      <td>1501.0</td>\n",
              "      <td>337.0</td>\n",
              "      <td>515.0</td>\n",
              "      <td>226.0</td>\n",
              "      <td>3.1917</td>\n",
              "    </tr>\n",
              "    <tr>\n",
              "      <th>4</th>\n",
              "      <td>-114.57</td>\n",
              "      <td>33.57</td>\n",
              "      <td>20.0</td>\n",
              "      <td>1454.0</td>\n",
              "      <td>326.0</td>\n",
              "      <td>624.0</td>\n",
              "      <td>262.0</td>\n",
              "      <td>1.9250</td>\n",
              "    </tr>\n",
              "  </tbody>\n",
              "</table>\n",
              "</div>\n",
              "    <div class=\"colab-df-buttons\">\n",
              "\n",
              "  <div class=\"colab-df-container\">\n",
              "    <button class=\"colab-df-convert\" onclick=\"convertToInteractive('df-c9e51378-bcb1-4298-9097-4e99c389a19a')\"\n",
              "            title=\"Convert this dataframe to an interactive table.\"\n",
              "            style=\"display:none;\">\n",
              "\n",
              "  <svg xmlns=\"http://www.w3.org/2000/svg\" height=\"24px\" viewBox=\"0 -960 960 960\">\n",
              "    <path d=\"M120-120v-720h720v720H120Zm60-500h600v-160H180v160Zm220 220h160v-160H400v160Zm0 220h160v-160H400v160ZM180-400h160v-160H180v160Zm440 0h160v-160H620v160ZM180-180h160v-160H180v160Zm440 0h160v-160H620v160Z\"/>\n",
              "  </svg>\n",
              "    </button>\n",
              "\n",
              "  <style>\n",
              "    .colab-df-container {\n",
              "      display:flex;\n",
              "      gap: 12px;\n",
              "    }\n",
              "\n",
              "    .colab-df-convert {\n",
              "      background-color: #E8F0FE;\n",
              "      border: none;\n",
              "      border-radius: 50%;\n",
              "      cursor: pointer;\n",
              "      display: none;\n",
              "      fill: #1967D2;\n",
              "      height: 32px;\n",
              "      padding: 0 0 0 0;\n",
              "      width: 32px;\n",
              "    }\n",
              "\n",
              "    .colab-df-convert:hover {\n",
              "      background-color: #E2EBFA;\n",
              "      box-shadow: 0px 1px 2px rgba(60, 64, 67, 0.3), 0px 1px 3px 1px rgba(60, 64, 67, 0.15);\n",
              "      fill: #174EA6;\n",
              "    }\n",
              "\n",
              "    .colab-df-buttons div {\n",
              "      margin-bottom: 4px;\n",
              "    }\n",
              "\n",
              "    [theme=dark] .colab-df-convert {\n",
              "      background-color: #3B4455;\n",
              "      fill: #D2E3FC;\n",
              "    }\n",
              "\n",
              "    [theme=dark] .colab-df-convert:hover {\n",
              "      background-color: #434B5C;\n",
              "      box-shadow: 0px 1px 3px 1px rgba(0, 0, 0, 0.15);\n",
              "      filter: drop-shadow(0px 1px 2px rgba(0, 0, 0, 0.3));\n",
              "      fill: #FFFFFF;\n",
              "    }\n",
              "  </style>\n",
              "\n",
              "    <script>\n",
              "      const buttonEl =\n",
              "        document.querySelector('#df-c9e51378-bcb1-4298-9097-4e99c389a19a button.colab-df-convert');\n",
              "      buttonEl.style.display =\n",
              "        google.colab.kernel.accessAllowed ? 'block' : 'none';\n",
              "\n",
              "      async function convertToInteractive(key) {\n",
              "        const element = document.querySelector('#df-c9e51378-bcb1-4298-9097-4e99c389a19a');\n",
              "        const dataTable =\n",
              "          await google.colab.kernel.invokeFunction('convertToInteractive',\n",
              "                                                    [key], {});\n",
              "        if (!dataTable) return;\n",
              "\n",
              "        const docLinkHtml = 'Like what you see? Visit the ' +\n",
              "          '<a target=\"_blank\" href=https://colab.research.google.com/notebooks/data_table.ipynb>data table notebook</a>'\n",
              "          + ' to learn more about interactive tables.';\n",
              "        element.innerHTML = '';\n",
              "        dataTable['output_type'] = 'display_data';\n",
              "        await google.colab.output.renderOutput(dataTable, element);\n",
              "        const docLink = document.createElement('div');\n",
              "        docLink.innerHTML = docLinkHtml;\n",
              "        element.appendChild(docLink);\n",
              "      }\n",
              "    </script>\n",
              "  </div>\n",
              "\n",
              "\n",
              "    <div id=\"df-06e483d7-2b34-4c13-a1ef-d274733c0004\">\n",
              "      <button class=\"colab-df-quickchart\" onclick=\"quickchart('df-06e483d7-2b34-4c13-a1ef-d274733c0004')\"\n",
              "                title=\"Suggest charts\"\n",
              "                style=\"display:none;\">\n",
              "\n",
              "<svg xmlns=\"http://www.w3.org/2000/svg\" height=\"24px\"viewBox=\"0 0 24 24\"\n",
              "     width=\"24px\">\n",
              "    <g>\n",
              "        <path d=\"M19 3H5c-1.1 0-2 .9-2 2v14c0 1.1.9 2 2 2h14c1.1 0 2-.9 2-2V5c0-1.1-.9-2-2-2zM9 17H7v-7h2v7zm4 0h-2V7h2v10zm4 0h-2v-4h2v4z\"/>\n",
              "    </g>\n",
              "</svg>\n",
              "      </button>\n",
              "\n",
              "<style>\n",
              "  .colab-df-quickchart {\n",
              "      --bg-color: #E8F0FE;\n",
              "      --fill-color: #1967D2;\n",
              "      --hover-bg-color: #E2EBFA;\n",
              "      --hover-fill-color: #174EA6;\n",
              "      --disabled-fill-color: #AAA;\n",
              "      --disabled-bg-color: #DDD;\n",
              "  }\n",
              "\n",
              "  [theme=dark] .colab-df-quickchart {\n",
              "      --bg-color: #3B4455;\n",
              "      --fill-color: #D2E3FC;\n",
              "      --hover-bg-color: #434B5C;\n",
              "      --hover-fill-color: #FFFFFF;\n",
              "      --disabled-bg-color: #3B4455;\n",
              "      --disabled-fill-color: #666;\n",
              "  }\n",
              "\n",
              "  .colab-df-quickchart {\n",
              "    background-color: var(--bg-color);\n",
              "    border: none;\n",
              "    border-radius: 50%;\n",
              "    cursor: pointer;\n",
              "    display: none;\n",
              "    fill: var(--fill-color);\n",
              "    height: 32px;\n",
              "    padding: 0;\n",
              "    width: 32px;\n",
              "  }\n",
              "\n",
              "  .colab-df-quickchart:hover {\n",
              "    background-color: var(--hover-bg-color);\n",
              "    box-shadow: 0 1px 2px rgba(60, 64, 67, 0.3), 0 1px 3px 1px rgba(60, 64, 67, 0.15);\n",
              "    fill: var(--button-hover-fill-color);\n",
              "  }\n",
              "\n",
              "  .colab-df-quickchart-complete:disabled,\n",
              "  .colab-df-quickchart-complete:disabled:hover {\n",
              "    background-color: var(--disabled-bg-color);\n",
              "    fill: var(--disabled-fill-color);\n",
              "    box-shadow: none;\n",
              "  }\n",
              "\n",
              "  .colab-df-spinner {\n",
              "    border: 2px solid var(--fill-color);\n",
              "    border-color: transparent;\n",
              "    border-bottom-color: var(--fill-color);\n",
              "    animation:\n",
              "      spin 1s steps(1) infinite;\n",
              "  }\n",
              "\n",
              "  @keyframes spin {\n",
              "    0% {\n",
              "      border-color: transparent;\n",
              "      border-bottom-color: var(--fill-color);\n",
              "      border-left-color: var(--fill-color);\n",
              "    }\n",
              "    20% {\n",
              "      border-color: transparent;\n",
              "      border-left-color: var(--fill-color);\n",
              "      border-top-color: var(--fill-color);\n",
              "    }\n",
              "    30% {\n",
              "      border-color: transparent;\n",
              "      border-left-color: var(--fill-color);\n",
              "      border-top-color: var(--fill-color);\n",
              "      border-right-color: var(--fill-color);\n",
              "    }\n",
              "    40% {\n",
              "      border-color: transparent;\n",
              "      border-right-color: var(--fill-color);\n",
              "      border-top-color: var(--fill-color);\n",
              "    }\n",
              "    60% {\n",
              "      border-color: transparent;\n",
              "      border-right-color: var(--fill-color);\n",
              "    }\n",
              "    80% {\n",
              "      border-color: transparent;\n",
              "      border-right-color: var(--fill-color);\n",
              "      border-bottom-color: var(--fill-color);\n",
              "    }\n",
              "    90% {\n",
              "      border-color: transparent;\n",
              "      border-bottom-color: var(--fill-color);\n",
              "    }\n",
              "  }\n",
              "</style>\n",
              "\n",
              "      <script>\n",
              "        async function quickchart(key) {\n",
              "          const quickchartButtonEl =\n",
              "            document.querySelector('#' + key + ' button');\n",
              "          quickchartButtonEl.disabled = true;  // To prevent multiple clicks.\n",
              "          quickchartButtonEl.classList.add('colab-df-spinner');\n",
              "          try {\n",
              "            const charts = await google.colab.kernel.invokeFunction(\n",
              "                'suggestCharts', [key], {});\n",
              "          } catch (error) {\n",
              "            console.error('Error during call to suggestCharts:', error);\n",
              "          }\n",
              "          quickchartButtonEl.classList.remove('colab-df-spinner');\n",
              "          quickchartButtonEl.classList.add('colab-df-quickchart-complete');\n",
              "        }\n",
              "        (() => {\n",
              "          let quickchartButtonEl =\n",
              "            document.querySelector('#df-06e483d7-2b34-4c13-a1ef-d274733c0004 button');\n",
              "          quickchartButtonEl.style.display =\n",
              "            google.colab.kernel.accessAllowed ? 'block' : 'none';\n",
              "        })();\n",
              "      </script>\n",
              "    </div>\n",
              "    </div>\n",
              "  </div>\n"
            ],
            "application/vnd.google.colaboratory.intrinsic+json": {
              "type": "dataframe",
              "variable_name": "x",
              "summary": "{\n  \"name\": \"x\",\n  \"rows\": 17000,\n  \"fields\": [\n    {\n      \"column\": \"longitude\",\n      \"properties\": {\n        \"dtype\": \"number\",\n        \"std\": 2.005166408426173,\n        \"min\": -124.35,\n        \"max\": -114.31,\n        \"num_unique_values\": 827,\n        \"samples\": [\n          -117.56,\n          -123.32,\n          -118.26\n        ],\n        \"semantic_type\": \"\",\n        \"description\": \"\"\n      }\n    },\n    {\n      \"column\": \"latitude\",\n      \"properties\": {\n        \"dtype\": \"number\",\n        \"std\": 2.1373397946570734,\n        \"min\": 32.54,\n        \"max\": 41.95,\n        \"num_unique_values\": 840,\n        \"samples\": [\n          38.44,\n          40.79,\n          32.69\n        ],\n        \"semantic_type\": \"\",\n        \"description\": \"\"\n      }\n    },\n    {\n      \"column\": \"housing_median_age\",\n      \"properties\": {\n        \"dtype\": \"number\",\n        \"std\": 12.586936981660335,\n        \"min\": 1.0,\n        \"max\": 52.0,\n        \"num_unique_values\": 52,\n        \"samples\": [\n          23.0,\n          52.0,\n          47.0\n        ],\n        \"semantic_type\": \"\",\n        \"description\": \"\"\n      }\n    },\n    {\n      \"column\": \"total_rooms\",\n      \"properties\": {\n        \"dtype\": \"number\",\n        \"std\": 2179.947071452768,\n        \"min\": 2.0,\n        \"max\": 37937.0,\n        \"num_unique_values\": 5533,\n        \"samples\": [\n          3564.0,\n          6955.0,\n          5451.0\n        ],\n        \"semantic_type\": \"\",\n        \"description\": \"\"\n      }\n    },\n    {\n      \"column\": \"total_bedrooms\",\n      \"properties\": {\n        \"dtype\": \"number\",\n        \"std\": 421.49945157986514,\n        \"min\": 1.0,\n        \"max\": 6445.0,\n        \"num_unique_values\": 1848,\n        \"samples\": [\n          729.0,\n          719.0,\n          2075.0\n        ],\n        \"semantic_type\": \"\",\n        \"description\": \"\"\n      }\n    },\n    {\n      \"column\": \"population\",\n      \"properties\": {\n        \"dtype\": \"number\",\n        \"std\": 1147.852959159525,\n        \"min\": 3.0,\n        \"max\": 35682.0,\n        \"num_unique_values\": 3683,\n        \"samples\": [\n          249.0,\n          1735.0,\n          235.0\n        ],\n        \"semantic_type\": \"\",\n        \"description\": \"\"\n      }\n    },\n    {\n      \"column\": \"households\",\n      \"properties\": {\n        \"dtype\": \"number\",\n        \"std\": 384.52084085590013,\n        \"min\": 1.0,\n        \"max\": 6082.0,\n        \"num_unique_values\": 1740,\n        \"samples\": [\n          390.0,\n          1089.0,\n          1351.0\n        ],\n        \"semantic_type\": \"\",\n        \"description\": \"\"\n      }\n    },\n    {\n      \"column\": \"median_income\",\n      \"properties\": {\n        \"dtype\": \"number\",\n        \"std\": 1.908156518379093,\n        \"min\": 0.4999,\n        \"max\": 15.0001,\n        \"num_unique_values\": 11175,\n        \"samples\": [\n          7.2655,\n          5.6293,\n          4.2262\n        ],\n        \"semantic_type\": \"\",\n        \"description\": \"\"\n      }\n    }\n  ]\n}"
            }
          },
          "metadata": {},
          "execution_count": 5
        }
      ],
      "source": [
        "x.head()"
      ]
    },
    {
      "cell_type": "code",
      "source": [
        "y.head()"
      ],
      "metadata": {
        "colab": {
          "base_uri": "https://localhost:8080/",
          "height": 241
        },
        "id": "E-MejZc3BwDT",
        "outputId": "eff2dc0f-6bea-45b7-f8cf-2dece11b21a7"
      },
      "execution_count": 6,
      "outputs": [
        {
          "output_type": "execute_result",
          "data": {
            "text/plain": [
              "0    66900.0\n",
              "1    80100.0\n",
              "2    85700.0\n",
              "3    73400.0\n",
              "4    65500.0\n",
              "Name: median_house_value, dtype: float64"
            ],
            "text/html": [
              "<div>\n",
              "<style scoped>\n",
              "    .dataframe tbody tr th:only-of-type {\n",
              "        vertical-align: middle;\n",
              "    }\n",
              "\n",
              "    .dataframe tbody tr th {\n",
              "        vertical-align: top;\n",
              "    }\n",
              "\n",
              "    .dataframe thead th {\n",
              "        text-align: right;\n",
              "    }\n",
              "</style>\n",
              "<table border=\"1\" class=\"dataframe\">\n",
              "  <thead>\n",
              "    <tr style=\"text-align: right;\">\n",
              "      <th></th>\n",
              "      <th>median_house_value</th>\n",
              "    </tr>\n",
              "  </thead>\n",
              "  <tbody>\n",
              "    <tr>\n",
              "      <th>0</th>\n",
              "      <td>66900.0</td>\n",
              "    </tr>\n",
              "    <tr>\n",
              "      <th>1</th>\n",
              "      <td>80100.0</td>\n",
              "    </tr>\n",
              "    <tr>\n",
              "      <th>2</th>\n",
              "      <td>85700.0</td>\n",
              "    </tr>\n",
              "    <tr>\n",
              "      <th>3</th>\n",
              "      <td>73400.0</td>\n",
              "    </tr>\n",
              "    <tr>\n",
              "      <th>4</th>\n",
              "      <td>65500.0</td>\n",
              "    </tr>\n",
              "  </tbody>\n",
              "</table>\n",
              "</div><br><label><b>dtype:</b> float64</label>"
            ]
          },
          "metadata": {},
          "execution_count": 6
        }
      ]
    },
    {
      "cell_type": "markdown",
      "metadata": {
        "id": "iCca3Z2EjCwl"
      },
      "source": [
        "### Exercise: Print the Shape of Feature Matrix X\n",
        "\n",
        "**Instructions:**\n",
        "\n",
        "1. Using the feature matrix `X` defined earlier, print its shape (number of rows and columns).\n",
        "\n",
        "**Expected Output:**\n",
        "\n",
        "- The output should display a tuple showing the dimensions of `X`, for example `(17000, 8)` indicating 17,000 rows and 8 columns.\n"
      ]
    },
    {
      "cell_type": "code",
      "execution_count": 7,
      "metadata": {
        "colab": {
          "base_uri": "https://localhost:8080/"
        },
        "id": "qGkXENicTfBk",
        "outputId": "19fde709-1e6e-42e9-fa37-ca242966d0e4"
      },
      "outputs": [
        {
          "output_type": "execute_result",
          "data": {
            "text/plain": [
              "(17000, 8)"
            ]
          },
          "metadata": {},
          "execution_count": 7
        }
      ],
      "source": [
        "x.shape"
      ]
    },
    {
      "cell_type": "markdown",
      "metadata": {
        "id": "4rcdiu8ejSQd"
      },
      "source": [
        "### Exercise: Split the Dataset into Training and Test Sets\n",
        "\n",
        "**Instructions:**\n",
        "\n",
        "1. Split the dataset into training and test sets.\n",
        "2. Use 20% of the data as the test set.\n",
        "3. Use `train_test_split` from `sklearn.model_selection` for splitting.\n",
        "\n",
        "**Expected Output:**\n",
        "\n",
        "- You should have four variables: `X_train`, `X_test`, `y_train`, and `y_test`.\n",
        "- The test set should contain approximately 20% of the samples.\n"
      ]
    },
    {
      "cell_type": "code",
      "execution_count": 62,
      "metadata": {
        "id": "ZAGrTvKPjT-m"
      },
      "outputs": [],
      "source": [
        "from sklearn.model_selection import train_test_split\n",
        "x_train , x_test , y_train , y_test = train_test_split(x, y, test_size = .2 , random_state=42)"
      ]
    },
    {
      "cell_type": "markdown",
      "metadata": {
        "id": "pe04stn7je19"
      },
      "source": [
        "### Exercise: Define the Device for PyTorch\n",
        "\n",
        "**Instructions:**\n",
        "\n",
        "1. Import `torch` library.\n",
        "2. Define a variable `device` that uses GPU if available, otherwise CPU.\n",
        "3. Print the selected device.\n",
        "\n",
        "**Expected Output:**\n",
        "\n",
        "- The output should show either `cuda` (if GPU is available) or `cpu`.\n",
        "\n"
      ]
    },
    {
      "cell_type": "code",
      "execution_count": 9,
      "metadata": {
        "id": "SAWXhPl-kgPt",
        "colab": {
          "base_uri": "https://localhost:8080/",
          "height": 35
        },
        "outputId": "daa25925-9ee7-400f-e470-bbba6e75295a"
      },
      "outputs": [
        {
          "output_type": "execute_result",
          "data": {
            "text/plain": [
              "'cuda'"
            ],
            "application/vnd.google.colaboratory.intrinsic+json": {
              "type": "string"
            }
          },
          "metadata": {},
          "execution_count": 9
        }
      ],
      "source": [
        "import torch\n",
        "device = \"cuda\" if torch.cpu.is_available() else \"cpu\"\n",
        "device"
      ]
    },
    {
      "cell_type": "markdown",
      "metadata": {
        "id": "M-iTKpjQkiYF"
      },
      "source": [
        "### Exercise: Convert Training Data to PyTorch Tensors (with Correct Shape)\n",
        "\n",
        "**Instructions:**\n",
        "\n",
        "1. Convert the training feature matrix `X_train` and the target vector `y_train` to PyTorch tensors.\n",
        "2. Ensure that `X_train_tensor` has data type `float32` and shape `(n_samples, n_features)`.\n",
        "3. Ensure that `y_train_tensor` has shape `(n_samples, 1)` (i.e., two-dimensional).\n",
        "4. Move both tensors to the appropriate `device` (CPU or GPU).\n",
        "\n",
        "**Expected Output:**\n",
        "\n",
        "- `X_train_tensor`: a 2D tensor of shape `[number_of_samples, number_of_features]`.\n",
        "- `y_train_tensor`: a 2D tensor of shape `[number_of_samples, 1]`.\n"
      ]
    },
    {
      "cell_type": "code",
      "execution_count": 63,
      "metadata": {
        "id": "vVWAYiZok03-"
      },
      "outputs": [],
      "source": [
        "x_train_tensor = torch.tensor(x_train.values  , dtype=torch.float , device = device)\n",
        "y_train_tensor = torch.tensor(y_train.values  , dtype=torch.float , device = device).view(-1 , 1)\n",
        "\n",
        "x_test_tensor = torch.tensor(x_test.values  , dtype=torch.float , device = device)\n",
        "y_test_tensor = torch.tensor(y_test.values  , dtype=torch.float , device = device).view(-1 ,1)"
      ]
    },
    {
      "cell_type": "code",
      "source": [
        "x_train_tensor.shape , y_train_tensor.shape"
      ],
      "metadata": {
        "colab": {
          "base_uri": "https://localhost:8080/"
        },
        "id": "JCKbi-foILtj",
        "outputId": "9b0b0424-6189-401c-9b9f-02f94fc2b520"
      },
      "execution_count": 39,
      "outputs": [
        {
          "output_type": "execute_result",
          "data": {
            "text/plain": [
              "(torch.Size([13600, 8]), torch.Size([13600, 1]))"
            ]
          },
          "metadata": {},
          "execution_count": 39
        }
      ]
    },
    {
      "cell_type": "code",
      "source": [],
      "metadata": {
        "id": "CwUZEuhRIdoG"
      },
      "execution_count": 11,
      "outputs": []
    },
    {
      "cell_type": "markdown",
      "metadata": {
        "id": "NQBhWPnMk-S-"
      },
      "source": [
        "### Exercise: Build a Neural Network Model with 3 Layers\n",
        "\n",
        "**Instructions:**\n",
        "\n",
        "1. Build a PyTorch neural network model.\n",
        "2. The architecture should include 3 layers:\n",
        "   - First layer: 5 neurons with ReLU activation\n",
        "   - Second layer: 3 neurons with ReLU activation\n",
        "   - Final layer: 1 neuron (no activation function)\n",
        "3. Do **not** apply any activation function to the output layer.\n",
        "\n",
        "**Expected Output:**\n",
        "\n",
        "- A model object containing 3 layers.\n",
        "- The output of the model should be a single continuous value suitable for regression.\n"
      ]
    },
    {
      "cell_type": "code",
      "execution_count": 64,
      "metadata": {
        "id": "jF2jnvQtYEwE"
      },
      "outputs": [],
      "source": [
        "from torch import nn\n",
        "from torch import optim\n",
        "loss_fn = nn.MSELoss()\n",
        "\n",
        "class ManualRegresion(nn.Module):\n",
        "  def __init__(self , input_dim):\n",
        "    super().__init__()\n",
        "    self.fc1 = nn.Linear(input_dim , 5)\n",
        "    self.fc2 = nn.Linear(5 , 3)\n",
        "    self.fc3 = nn.Linear(3 , 1)\n",
        "    self.relu = nn.ReLU()\n",
        "\n",
        "\n",
        "  def forward(self , x):\n",
        "    x = self.relu(self.fc1(x))\n",
        "    x = self.relu(self.fc2(x))\n",
        "    x = self.fc3(x)\n",
        "    return x"
      ]
    },
    {
      "cell_type": "markdown",
      "metadata": {
        "id": "_MF7W0icpqOe"
      },
      "source": [
        "### Exercise: Implement the Training Loop and Train the Model\n",
        "\n",
        "**Instructions:**\n",
        "\n",
        "1. Write a training loop to train the model for **500 epochs**.\n",
        "2. Use **Mean Squared Error (MSE)** as the loss function.\n",
        "3. Use an optimizer such as **SGD**.\n",
        "4. In each epoch:\n",
        "   - Perform a forward pass.\n",
        "   - Compute the loss.\n",
        "   - Perform a backward pass.\n",
        "   - Update the model parameters.\n",
        "5. Print the loss every 50 epochs to monitor training progress.\n",
        "\n",
        "**Expected Output:**\n",
        "\n",
        "- The model should train for 500 epochs.\n",
        "- You should see printed loss values at regular intervals (e.g., every 50 epochs).\n",
        "- The loss should generally decrease over time if the model is learning properly.\n"
      ]
    },
    {
      "cell_type": "code",
      "execution_count": 27,
      "metadata": {
        "colab": {
          "base_uri": "https://localhost:8080/"
        },
        "id": "3O3NMMhnY-QU",
        "outputId": "fcb528d6-57ac-4b6a-cf72-b7b032b7fbb2"
      },
      "outputs": [
        {
          "output_type": "stream",
          "name": "stdout",
          "text": [
            "Epoch 1 : train loss = 56095772672.0 \n",
            "Epoch 50 : train loss = 2.525859862208138e+25 \n",
            "Epoch 100 : train loss = 3.349786626210212e+24 \n",
            "Epoch 150 : train loss = 4.442471368908271e+23 \n",
            "Epoch 200 : train loss = 5.8915856138080205e+22 \n",
            "Epoch 250 : train loss = 7.813399139266456e+21 \n",
            "Epoch 300 : train loss = 1.0362106498947964e+21 \n",
            "Epoch 350 : train loss = 1.3742177470232763e+20 \n",
            "Epoch 400 : train loss = 1.822481095017785e+19 \n",
            "Epoch 450 : train loss = 2.416967900653945e+18 \n",
            "Epoch 500 : train loss = 3.205373606703923e+17 \n"
          ]
        }
      ],
      "source": [
        "input_dim = x_train_tensor.shape[1]\n",
        "model = ManualRegresion(input_dim).to(device)\n",
        "torch.manual_seed(42)\n",
        "\n",
        "n_epoch = 500\n",
        "lr = .01\n",
        "losses = []\n",
        "optimizer = optim.SGD(model.parameters() , lr = lr)\n",
        "loss_fn = nn.MSELoss()\n",
        "\n",
        "for i in range(n_epoch):\n",
        "  model.train()\n",
        "  y_pred = model(x_train_tensor)\n",
        "  loss = loss_fn(y_train_tensor , y_pred)\n",
        "  loss.backward()\n",
        "  optimizer.step()\n",
        "  losses.append(loss.detach().cpu().item())\n",
        "  optimizer.zero_grad()\n",
        "  if (i + 1) % 50 == 0 or i == 0:\n",
        "    print(f\"Epoch {i + 1} : train loss = {loss.detach().cpu().item()} \")\n"
      ]
    },
    {
      "cell_type": "code",
      "source": [
        "import matplotlib.pyplot as plt\n",
        "plt.plot(range(n_epoch) , losses)\n",
        "plt.show()"
      ],
      "metadata": {
        "colab": {
          "base_uri": "https://localhost:8080/",
          "height": 445
        },
        "id": "ueUL7hnoBEu4",
        "outputId": "b4d69d43-2a44-4747-d83b-6a24aa98cb04"
      },
      "execution_count": 28,
      "outputs": [
        {
          "output_type": "display_data",
          "data": {
            "text/plain": [
              "<Figure size 640x480 with 1 Axes>"
            ],
            "image/png": "[encoded data removed]"
          },
          "metadata": {}
        }
      ]
    },
    {
      "cell_type": "code",
      "source": [
        "model"
      ],
      "metadata": {
        "colab": {
          "base_uri": "https://localhost:8080/"
        },
        "id": "bTeIzmBz4yK1",
        "outputId": "d3351ab1-1f29-4767-c478-ad27ffc45a02"
      },
      "execution_count": 17,
      "outputs": [
        {
          "output_type": "execute_result",
          "data": {
            "text/plain": [
              "ManualRegresion(\n",
              "  (fc1): Linear(in_features=8, out_features=5, bias=True)\n",
              "  (fc2): Linear(in_features=5, out_features=3, bias=True)\n",
              "  (fc3): Linear(in_features=3, out_features=1, bias=True)\n",
              "  (relu): ReLU()\n",
              ")"
            ]
          },
          "metadata": {},
          "execution_count": 17
        }
      ]
    },
    {
      "cell_type": "code",
      "source": [
        "model.state_dict()"
      ],
      "metadata": {
        "colab": {
          "base_uri": "https://localhost:8080/"
        },
        "id": "5KXYGN3_40pe",
        "outputId": "c682ff62-05d0-4dd9-a61e-c246fc6e9699"
      },
      "execution_count": 18,
      "outputs": [
        {
          "output_type": "execute_result",
          "data": {
            "text/plain": [
              "OrderedDict([('fc1.weight',\n",
              "              tensor([[ 0.1078,  0.1607,  0.0543,  0.2465,  0.2187, -0.2050,  0.1809, -0.1095],\n",
              "                      [-0.3336,  0.2311, -0.3275,  0.0846, -0.2465,  0.2177, -0.0179, -0.1021],\n",
              "                      [-0.2921, -0.3263, -0.0342, -0.2655, -0.2134,  0.2159,  0.2727,  0.2641],\n",
              "                      [-0.3228,  0.1951, -0.2705,  0.1870, -0.1291, -0.3132,  0.0105, -0.3401],\n",
              "                      [-0.2567, -0.0968,  0.0628,  0.2390, -0.0636, -0.2860,  0.0854, -0.2800]],\n",
              "                     device='cuda:0')),\n",
              "             ('fc1.bias',\n",
              "              tensor([ 0.3442, -0.0041, -0.0291, -0.0327,  0.0772], device='cuda:0')),\n",
              "             ('fc2.weight',\n",
              "              tensor([[ 0.0819,  0.3022, -0.0219,  0.2744,  0.1942],\n",
              "                      [-0.0281,  0.0747, -0.0752,  0.1535, -0.4142],\n",
              "                      [ 0.3598,  0.2498,  0.4341,  0.1775,  0.2445]], device='cuda:0')),\n",
              "             ('fc2.bias',\n",
              "              tensor([ 0.2696, -0.4280, -0.0522], device='cuda:0')),\n",
              "             ('fc3.weight',\n",
              "              tensor([[-0.3168,  0.0821,  0.4390]], device='cuda:0')),\n",
              "             ('fc3.bias', tensor([0.2896], device='cuda:0'))])"
            ]
          },
          "metadata": {},
          "execution_count": 18
        }
      ]
    },
    {
      "cell_type": "code",
      "source": [
        "model.state_dict()['fc1.weight']"
      ],
      "metadata": {
        "colab": {
          "base_uri": "https://localhost:8080/"
        },
        "id": "xELKffKY4_cB",
        "outputId": "a0cf01c7-495e-41d8-eeb7-e61db6f0fd74"
      },
      "execution_count": 19,
      "outputs": [
        {
          "output_type": "execute_result",
          "data": {
            "text/plain": [
              "tensor([[ 0.1078,  0.1607,  0.0543,  0.2465,  0.2187, -0.2050,  0.1809, -0.1095],\n",
              "        [-0.3336,  0.2311, -0.3275,  0.0846, -0.2465,  0.2177, -0.0179, -0.1021],\n",
              "        [-0.2921, -0.3263, -0.0342, -0.2655, -0.2134,  0.2159,  0.2727,  0.2641],\n",
              "        [-0.3228,  0.1951, -0.2705,  0.1870, -0.1291, -0.3132,  0.0105, -0.3401],\n",
              "        [-0.2567, -0.0968,  0.0628,  0.2390, -0.0636, -0.2860,  0.0854, -0.2800]],\n",
              "       device='cuda:0')"
            ]
          },
          "metadata": {},
          "execution_count": 19
        }
      ]
    },
    {
      "cell_type": "markdown",
      "metadata": {
        "id": "91f9amRzqsNu"
      },
      "source": [
        "### Exercise: Analyze the Training Behavior\n",
        "\n",
        "**Instructions:**\n",
        "\n",
        "After training the model for 500 epochs, observe the printed loss values over time.\n",
        "\n",
        "You are expected to see a decreasing trend in the loss, indicating that the model is learning and updating its parameters correctly.\n",
        "\n",
        "However, you might notice that:\n",
        "\n",
        "- The loss is **not decreasing significantly**, or\n",
        "- The loss remains **almost constant**, or\n",
        "- The loss shows **unexpected fluctuations**.\n",
        "\n",
        "This suggests that **learning may not be happening as expected**, even though the training loop and model definition seem correct.\n",
        "\n",
        "**Question:**\n",
        "\n",
        "What could be the reasons for the model not learning properly?\n",
        "\n",
        "- The code logic appears to be correct.\n",
        "- The model runs without errors.\n",
        "- The loss function and optimizer are standard.\n",
        "\n",
        "**Hint:** Think about the nature and scale of the input data. Neural networks are sensitive to the scale of input features. You may consider whether data **normalization or standardization** is necessary before feeding inputs into the model.\n",
        "\n",
        "Discuss what might be going wrong and how you would investigate or fix it.\n"
      ]
    },
    {
      "cell_type": "code",
      "execution_count": 65,
      "metadata": {
        "id": "Wk8dPrl9sHD2"
      },
      "outputs": [],
      "source": [
        "x_mu = x_train_tensor.mean(axis=0)\n",
        "x_std = x_train_tensor.std(axis=0)\n",
        "x_train_tensor_scaled = (x_train_tensor - x_mu) / (x_std)\n",
        "\n",
        "y_mu = y_train_tensor.mean(axis=0)\n",
        "y_std = y_train_tensor.std(axis=0)\n",
        "y_train_tensor_scaled = (y_train_tensor - y_mu) / (y_std)\n",
        "\n",
        "\n",
        "x_test_tensor_scaled = (x_test_tensor - x_mu) / (x_std)\n",
        "y_test_tensor_scaled = (y_test_tensor - y_mu) / (y_std)\n"
      ]
    },
    {
      "cell_type": "markdown",
      "metadata": {
        "id": "y358DlWasILO"
      },
      "source": [
        "### Exercise: Manually Normalize Input Features and Target (Without sklearn)\n",
        "\n",
        "**Instructions:**\n",
        "\n",
        "In regression problems, it's important to normalize both the **input features (`X`)** and the **target (`y`)** to improve the stability and efficiency of training.\n",
        "\n",
        "You will perform **standard normalization** (zero mean and unit variance) **manually**, without using any external library such as `sklearn`.\n",
        "\n",
        "---\n",
        "\n",
        "#### 🔹 Normalization Formula:\n",
        "\n",
        "For each column (feature or target), apply:\n",
        "\n",
        "$$\n",
        "x_{\\text{normalized}} = \\frac{x - \\mu}{\\sigma}\n",
        "$$\n",
        "\n",
        "where:\n",
        "\n",
        "- \\( x \\): original value  \n",
        "- \\( \\mu \\): mean of the column (computed from `X_train` or `y_train`)  \n",
        "- \\( \\sigma \\): standard deviation of the column (computed from `X_train` or `y_train`)  \n",
        "\n",
        "---\n",
        "\n",
        "#### 🔹 Your Tasks:\n",
        "\n",
        "1. Compute the mean and standard deviation of each feature column in `X_train`.\n",
        "2. Normalize `X_train` using these values.\n",
        "3. Normalize `X_test` using the **same** mean and std from `X_train`.\n",
        "4. Compute the mean and std of `y_train`, then normalize it.\n",
        "5. Apply the same transformation to `y_test`.\n",
        "6. After normalization, convert all the data to PyTorch tensors and move them to the appropriate `device`.\n",
        "\n",
        "---\n",
        "\n",
        "#### ⚠️ Notes:\n",
        "\n",
        "- Do **not** use `sklearn.preprocessing.StandardScaler` or any similar library.\n",
        "- Normalization must be done **before converting the data to PyTorch tensors**.\n",
        "- Keep track of the mean and std values for `y` — they will be needed later to **de-normalize predictions** (e.g., for evaluation or visualization).\n",
        "- Without proper normalization, the model may fail to learn effectively, especially if feature scales differ significantly.\n",
        "\n",
        "---\n",
        "\n",
        "**Expected Output:**\n",
        "\n",
        "- Each column in `X_train` should have a mean close to 0 and standard deviation close to 1.\n",
        "- The same applies to `y_train`.\n",
        "- `X_test` and `y_test` should be transformed using `X_train` and `y_train` statistics.\n",
        "- Model training loss should now decrease more consistently compared to training without normalization.\n",
        "\n"
      ]
    },
    {
      "cell_type": "code",
      "execution_count": 82,
      "metadata": {
        "id": "7kdS0YGOt32u",
        "colab": {
          "base_uri": "https://localhost:8080/"
        },
        "outputId": "a2e3caea-b440-434b-fa38-9f38625c364d"
      },
      "outputs": [
        {
          "output_type": "stream",
          "name": "stdout",
          "text": [
            "Epoch 1 : train loss = 1.033078670501709  , val loss = 1.0721379518508911\n",
            "Epoch 500 : train loss = 0.9999396204948425  , val loss = 1.031332015991211\n",
            "Epoch 1000 : train loss = 0.9999310374259949  , val loss = 1.031322717666626\n",
            "Epoch 1500 : train loss = 0.9999223947525024  , val loss = 1.0313138961791992\n",
            "Epoch 2000 : train loss = 0.9999138116836548  , val loss = 1.0313047170639038\n",
            "Epoch 2500 : train loss = 0.9999048113822937  , val loss = 1.0312951803207397\n",
            "Epoch 3000 : train loss = 0.9998953938484192  , val loss = 1.031285047531128\n",
            "Epoch 3500 : train loss = 0.9998852014541626  , val loss = 1.0312740802764893\n",
            "Epoch 4000 : train loss = 0.9998739957809448  , val loss = 1.0312620401382446\n",
            "Epoch 4500 : train loss = 0.9998613595962524  , val loss = 1.0312485694885254\n",
            "Epoch 5000 : train loss = 0.9998469948768616  , val loss = 1.0312328338623047\n",
            "Epoch 5500 : train loss = 0.9998301863670349  , val loss = 1.0312144756317139\n",
            "Epoch 6000 : train loss = 0.999809980392456  , val loss = 1.031192421913147\n",
            "Epoch 6500 : train loss = 0.9997851252555847  , val loss = 1.031165361404419\n",
            "Epoch 7000 : train loss = 0.9997536540031433  , val loss = 1.0311312675476074\n",
            "Epoch 7500 : train loss = 0.9997124671936035  , val loss = 1.0310865640640259\n",
            "Epoch 8000 : train loss = 0.9996564388275146  , val loss = 1.0310258865356445\n",
            "Epoch 8500 : train loss = 0.9995764493942261  , val loss = 1.0309394598007202\n",
            "Epoch 9000 : train loss = 0.9994543790817261  , val loss = 1.0308080911636353\n",
            "Epoch 9500 : train loss = 0.9992538690567017  , val loss = 1.0305925607681274\n",
            "Epoch 10000 : train loss = 0.9988794326782227  , val loss = 1.0301878452301025\n"
          ]
        }
      ],
      "source": [
        "input_dim = x_train_tensor.shape[1]\n",
        "model = ManualRegresion(input_dim).to(device)\n",
        "torch.manual_seed(42)\n",
        "\n",
        "n_epoch = 10000\n",
        "lr = .01\n",
        "train_losses = []\n",
        "val_losses = []\n",
        "optimizer = optim.SGD(model.parameters() , lr = lr)\n",
        "loss_fn = nn.MSELoss()\n",
        "\n",
        "for i in range(n_epoch):\n",
        "  model.train()\n",
        "  y_pred = model(x_train_tensor_scaled)\n",
        "  loss = loss_fn(y_train_tensor_scaled , y_pred)\n",
        "  loss.backward()\n",
        "  optimizer.step()\n",
        "  train_losses.append(loss.detach().cpu().item())\n",
        "  optimizer.zero_grad()\n",
        "\n",
        "\n",
        "  model.eval()\n",
        "  with torch.no_grad():\n",
        "    y_pred = model(x_test_tensor_scaled)\n",
        "    val_loss = loss_fn(y_test_tensor_scaled , y_pred)\n",
        "    val_losses.append(val_loss.detach().cpu().item())\n",
        "\n",
        "\n",
        "  if (i + 1) % 500 == 0 or i == 0:\n",
        "    print(f\"Epoch {i + 1} : train loss = {loss.detach().cpu().item()}  , val loss = {val_loss.detach().cpu().item()}\")\n"
      ]
    },
    {
      "cell_type": "code",
      "source": [
        "plt.plot(range(n_epoch) , train_losses)\n",
        "plt.plot(range(n_epoch) , val_losses)\n",
        "plt.show()"
      ],
      "metadata": {
        "colab": {
          "base_uri": "https://localhost:8080/",
          "height": 430
        },
        "id": "qFGOdOMbE-Tm",
        "outputId": "11ec23d1-18c5-4413-d9b0-5ef0bc59ced9"
      },
      "execution_count": 69,
      "outputs": [
        {
          "output_type": "display_data",
          "data": {
            "text/plain": [
              "<Figure size 640x480 with 1 Axes>"
            ],
            "image/png": "[encoded data removed]"
          },
          "metadata": {}
        }
      ]
    },
    {
      "cell_type": "markdown",
      "metadata": {
        "id": "rUOTvkg8t4eO"
      },
      "source": [
        "### Exercise: Convert Normalized Data to Tensors, Train the Model, and Plot Loss\n",
        "\n",
        "**Instructions:**\n",
        "\n",
        "1. Convert the normalized `X_train`, `X_test`, `y_train`, and `y_test` data to PyTorch tensors.\n",
        "2. Move the tensors to the appropriate device (CPU or GPU).\n",
        "3. Train the model using the normalized training data.\n",
        "4. During training, record the loss value for each epoch.\n",
        "5. After training, plot the training loss curve over all epochs to visualize the learning progress.\n",
        "6. Analyze the plot to confirm that the loss decreases smoothly over time, indicating successful training.\n",
        "\n",
        "**Expected Output:**\n",
        "\n",
        "- Tensors for all datasets on the correct device.\n",
        "- A training loss plot showing a generally decreasing trend.\n",
        "- Confirmation that normalization helped stabilize and improve training.\n"
      ]
    },
    {
      "cell_type": "code",
      "execution_count": 70,
      "metadata": {
        "id": "Of4T70CIuJf1"
      },
      "outputs": [],
      "source": [
        "from torch import nn\n",
        "from torch import optim\n",
        "loss_fn = nn.MSELoss()\n",
        "\n",
        "class ManualRegresion(nn.Module):\n",
        "  def __init__(self , input_dim):\n",
        "    super().__init__()\n",
        "    self.fc1 = nn.Linear(input_dim , 5)\n",
        "    self.fc2 = nn.Linear(5 , 4)\n",
        "    self.fc3 = nn.Linear(4 , 2)\n",
        "    self.fc4 = nn.Linear(2 , 1)\n",
        "    self.relu = nn.ReLU()\n",
        "\n",
        "\n",
        "  def forward(self , x):\n",
        "    x = self.relu(self.fc1(x))\n",
        "    x = self.relu(self.fc2(x))\n",
        "    x = self.relu(self.fc3(x))\n",
        "    x = self.fc4(x)\n",
        "    return x"
      ]
    },
    {
      "cell_type": "code",
      "execution_count": 71,
      "metadata": {
        "id": "t9jUbO6buVev",
        "colab": {
          "base_uri": "https://localhost:8080/"
        },
        "outputId": "50a7416a-9b3a-400b-90a1-21853b6824af"
      },
      "outputs": [
        {
          "output_type": "stream",
          "name": "stdout",
          "text": [
            "Epoch 1 : train loss = 1.1523451805114746  , val loss = 1.199930191040039\n",
            "Epoch 500 : train loss = 0.9737496972084045  , val loss = 1.0045167207717896\n",
            "Epoch 1000 : train loss = 0.411295086145401  , val loss = 0.4066627323627472\n",
            "Epoch 1500 : train loss = 0.31048840284347534  , val loss = 0.3040640652179718\n",
            "Epoch 2000 : train loss = 0.2989690601825714  , val loss = 0.29303592443466187\n",
            "Epoch 2500 : train loss = 0.2940549850463867  , val loss = 0.288590669631958\n",
            "Epoch 3000 : train loss = 0.2910984456539154  , val loss = 0.28650838136672974\n",
            "Epoch 3500 : train loss = 0.2882983982563019  , val loss = 0.284570574760437\n",
            "Epoch 4000 : train loss = 0.28590908646583557  , val loss = 0.2834537625312805\n",
            "Epoch 4500 : train loss = 0.2841213643550873  , val loss = 0.2826288938522339\n",
            "Epoch 5000 : train loss = 0.2827446460723877  , val loss = 0.2816004157066345\n",
            "Epoch 5500 : train loss = 0.2815876603126526  , val loss = 0.2805866003036499\n",
            "Epoch 6000 : train loss = 0.2804998755455017  , val loss = 0.27976563572883606\n",
            "Epoch 6500 : train loss = 0.27950820326805115  , val loss = 0.2789546251296997\n",
            "Epoch 7000 : train loss = 0.27858856320381165  , val loss = 0.27795425057411194\n",
            "Epoch 7500 : train loss = 0.27760446071624756  , val loss = 0.27675390243530273\n",
            "Epoch 8000 : train loss = 0.27648985385894775  , val loss = 0.27558180689811707\n",
            "Epoch 8500 : train loss = 0.27551937103271484  , val loss = 0.27461931109428406\n",
            "Epoch 9000 : train loss = 0.27453458309173584  , val loss = 0.2738204598426819\n",
            "Epoch 9500 : train loss = 0.2737851142883301  , val loss = 0.2727926969528198\n",
            "Epoch 10000 : train loss = 0.2730850577354431  , val loss = 0.27189263701438904\n"
          ]
        }
      ],
      "source": [
        "input_dim = x_train_tensor.shape[1]\n",
        "model = ManualRegresion(input_dim).to(device)\n",
        "torch.manual_seed(42)\n",
        "\n",
        "n_epoch = 10000\n",
        "lr = .01\n",
        "train_losses = []\n",
        "val_losses = []\n",
        "optimizer = optim.SGD(model.parameters() , lr = lr)\n",
        "loss_fn = nn.MSELoss()\n",
        "\n",
        "for i in range(n_epoch):\n",
        "  model.train()\n",
        "  y_pred = model(x_train_tensor_scaled)\n",
        "  loss = loss_fn(y_train_tensor_scaled , y_pred)\n",
        "  loss.backward()\n",
        "  optimizer.step()\n",
        "  train_losses.append(loss.detach().cpu().item())\n",
        "  optimizer.zero_grad()\n",
        "\n",
        "\n",
        "  model.eval()\n",
        "  with torch.no_grad():\n",
        "    y_pred = model(x_test_tensor_scaled)\n",
        "    val_loss = loss_fn(y_test_tensor_scaled , y_pred)\n",
        "    val_losses.append(val_loss.detach().cpu().item())\n",
        "\n",
        "\n",
        "  if (i + 1) % 500 == 0 or i == 0:\n",
        "    print(f\"Epoch {i + 1} : train loss = {loss.detach().cpu().item()}  , val loss = {val_loss.detach().cpu().item()}\")\n"
      ]
    },
    {
      "cell_type": "code",
      "source": [
        "plt.plot(range(n_epoch) , train_losses)\n",
        "plt.plot(range(n_epoch) , val_losses)\n",
        "plt.show()"
      ],
      "metadata": {
        "colab": {
          "base_uri": "https://localhost:8080/",
          "height": 430
        },
        "id": "uNZJ9p9wMgkg",
        "outputId": "2ad0bb5d-af63-44d8-eaae-0efb9b981e38"
      },
      "execution_count": 72,
      "outputs": [
        {
          "output_type": "display_data",
          "data": {
            "text/plain": [
              "<Figure size 640x480 with 1 Axes>"
            ],
            "image/png": "[encoded data removed]"
          },
          "metadata": {}
        }
      ]
    },
    {
      "cell_type": "markdown",
      "metadata": {
        "id": "tUlrwIKcuV3u"
      },
      "source": [
        "### Exercise: Increase Model Complexity and Experiment with Learning Rates\n",
        "\n",
        "**Instructions:**\n",
        "\n",
        "1. Modify your neural network model to make it more complex by:\n",
        "   - Increasing the number of layers (e.g., 4 or 5 layers).\n",
        "   - Increasing the number of neurons in each layer (e.g., 64, 32, 16, 8, 1).\n",
        "   - Use ReLU activation in all layers except the last.\n",
        "2. Train the model with **different learning rates** (e.g., 0.01, 0.001, 0.0001).\n",
        "3. For each learning rate:\n",
        "   - Train the model for the same number of epochs.\n",
        "   - Record the training loss over epochs.\n",
        "4. Compare and analyze the results to determine how learning rate affects the training process and final performance.\n",
        "5. Optionally, plot the training loss curves for different learning rates on the same graph for better comparison.\n",
        "\n",
        "**Expected Output:**\n",
        "\n",
        "- Multiple trained models with varying learning rates.\n",
        "- Training loss plots showing how different learning rates impact convergence speed and stability.\n",
        "- An analysis explaining which learning rate works best and why.\n"
      ]
    },
    {
      "cell_type": "code",
      "source": [
        "from torch import nn\n",
        "from torch import optim\n",
        "loss_fn = nn.MSELoss()\n",
        "\n",
        "class ManualRegresion(nn.Module):\n",
        "  def __init__(self , input_dim):\n",
        "    super().__init__()\n",
        "    self.fc1 = nn.Linear(input_dim , 7)\n",
        "    self.fc2 = nn.Linear(7 , 6)\n",
        "    self.fc3 = nn.Linear(6 , 5)\n",
        "    self.fc4 = nn.Linear(5 , 4)\n",
        "    self.fc5 = nn.Linear(4 , 3)\n",
        "    self.fc6 = nn.Linear(3 , 2)\n",
        "    self.fc7 = nn.Linear(2 , 1)\n",
        "    self.relu = nn.ReLU()\n",
        "\n",
        "\n",
        "  def forward(self , x):\n",
        "    x = self.relu(self.fc1(x))\n",
        "    x = self.relu(self.fc2(x))\n",
        "    x = self.relu(self.fc3(x))\n",
        "    x = self.relu(self.fc4(x))\n",
        "    x = self.relu(self.fc5(x))\n",
        "    x = self.relu(self.fc6(x))\n",
        "    x = self.fc7(x)\n",
        "    return x"
      ],
      "metadata": {
        "id": "_nHq3OURNBiW"
      },
      "execution_count": 77,
      "outputs": []
    },
    {
      "cell_type": "code",
      "execution_count": 87,
      "metadata": {
        "id": "sl65MzwDZsY_",
        "colab": {
          "base_uri": "https://localhost:8080/"
        },
        "outputId": "99e550aa-7ed2-4ee0-c944-0abc683e05b3"
      },
      "outputs": [
        {
          "output_type": "stream",
          "name": "stdout",
          "text": [
            "Epoch 1 : train loss = 1.033078670501709  , val loss = 1.058575987815857\n",
            "Epoch 3000 : train loss = 0.2967511713504791  , val loss = 0.2828885614871979\n",
            "Epoch 6000 : train loss = 0.2641681134700775  , val loss = 0.26085469126701355\n",
            "Epoch 9000 : train loss = 0.2597362697124481  , val loss = 0.2576805353164673\n",
            "Epoch 12000 : train loss = 0.25488290190696716  , val loss = 0.2527460753917694\n",
            "Epoch 15000 : train loss = 0.2496928870677948  , val loss = 0.24836847186088562\n",
            "Epoch 18000 : train loss = 0.24465861916542053  , val loss = 0.24470701813697815\n",
            "Epoch 21000 : train loss = 0.24076473712921143  , val loss = 0.24201789498329163\n",
            "Epoch 24000 : train loss = 0.24272307753562927  , val loss = 0.2442314475774765\n",
            "Epoch 27000 : train loss = 0.24384145438671112  , val loss = 0.24538953602313995\n",
            "Epoch 30000 : train loss = 0.24258555471897125  , val loss = 0.24421124160289764\n"
          ]
        }
      ],
      "source": [
        "input_dim = x_train_tensor.shape[1]\n",
        "model = ManualRegresion(input_dim).to(device)\n",
        "torch.manual_seed(42)\n",
        "\n",
        "n_epoch = 30000\n",
        "lr = .1\n",
        "train_losses = []\n",
        "val_losses = []\n",
        "optimizer = optim.SGD(model.parameters() , lr = lr)\n",
        "loss_fn = nn.MSELoss()\n",
        "\n",
        "for i in range(n_epoch):\n",
        "  model.train()\n",
        "  y_pred = model(x_train_tensor_scaled)\n",
        "  loss = loss_fn(y_train_tensor_scaled , y_pred)\n",
        "  loss.backward()\n",
        "  optimizer.step()\n",
        "  train_losses.append(loss.detach().cpu().item())\n",
        "  optimizer.zero_grad()\n",
        "\n",
        "\n",
        "  model.eval()\n",
        "  with torch.no_grad():\n",
        "    y_pred = model(x_test_tensor_scaled)\n",
        "    val_loss = loss_fn(y_test_tensor_scaled , y_pred)\n",
        "    val_losses.append(val_loss.detach().cpu().item())\n",
        "\n",
        "\n",
        "  if (i + 1) % 3000 == 0 or i == 0:\n",
        "    print(f\"Epoch {i + 1} : train loss = {loss.detach().cpu().item()}  , val loss = {val_loss.detach().cpu().item()}\")"
      ]
    },
    {
      "cell_type": "code",
      "source": [
        "plt.plot(range(n_epoch) , train_losses)\n",
        "plt.plot(range(n_epoch) , val_losses)\n",
        "plt.show()"
      ],
      "metadata": {
        "colab": {
          "base_uri": "https://localhost:8080/",
          "height": 430
        },
        "id": "ARSN1KouMyG8",
        "outputId": "74d26bc3-fedf-4849-9591-9d3636262f27"
      },
      "execution_count": 88,
      "outputs": [
        {
          "output_type": "display_data",
          "data": {
            "text/plain": [
              "<Figure size 640x480 with 1 Axes>"
            ],
            "image/png": "[encoded data removed]"
          },
          "metadata": {}
        }
      ]
    }
  ],
  "metadata": {
    "accelerator": "GPU",
    "colab": {
      "gpuType": "T4",
      "provenance": []
    },
    "kernelspec": {
      "display_name": "Python 3",
      "name": "python3"
    },
    "language_info": {
      "codemirror_mode": {
        "name": "ipython",
        "version": 3
      },
      "file_extension": ".py",
      "mimetype": "text/x-python",
      "name": "python",
      "nbconvert_exporter": "python",
      "pygments_lexer": "ipython3",
      "version": "3.10.6"
    }
  },
  "nbformat": 4,
  "nbformat_minor": 0
}